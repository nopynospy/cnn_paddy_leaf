{
 "cells": [
  {
   "cell_type": "markdown",
   "id": "158e0480",
   "metadata": {},
   "source": []
  },
  {
   "cell_type": "code",
   "execution_count": 1,
   "id": "31c073c2",
   "metadata": {},
   "outputs": [
    {
     "name": "stdout",
     "output_type": "stream",
     "text": [
      "285\n",
      "257\n"
     ]
    }
   ],
   "source": [
    "import os\n",
    "\n",
    "CLR_SUBDIR = \"cavalcante/rust_xml_image/\"\n",
    "CLM_SUBDIR = \"cavalcante/miner_img_xml/\"\n",
    "\n",
    "def get_all_with_ext(subdir, ext):\n",
    "    return [f for f in os.listdir(subdir) if f.endswith(ext)]\n",
    "\n",
    "clr_imgs = get_all_with_ext(CLR_SUBDIR, \".jpg\")\n",
    "clm_imgs = get_all_with_ext(CLM_SUBDIR, \".jpg\")\n",
    "\n",
    "print(len(clr_imgs))\n",
    "print(len(clm_imgs))"
   ]
  },
  {
   "cell_type": "code",
   "execution_count": 4,
   "id": "e608f42f",
   "metadata": {},
   "outputs": [
    {
     "data": {
      "text/plain": [
       "{'4000x2250': 275, '2549x3506': 7, '2250x4000': 3}"
      ]
     },
     "execution_count": 4,
     "metadata": {},
     "output_type": "execute_result"
    }
   ],
   "source": [
    "from PIL import Image\n",
    "\n",
    "def check_img_list_size(img_list, subdir):\n",
    "    freq = {} \n",
    "    for img in img_list:\n",
    "        im = Image.open(os.path.join(subdir, img))\n",
    "        width, height = im.size\n",
    "        dim = str(width) + \"x\" + str(height)\n",
    "        if (dim in freq): \n",
    "            freq[dim] += 1\n",
    "        else: \n",
    "            freq[dim] = 1\n",
    "    return freq\n",
    "        \n",
    "check_img_list_size(clr_imgs, CLR_SUBDIR)"
   ]
  },
  {
   "cell_type": "code",
   "execution_count": 5,
   "id": "98bf08fd",
   "metadata": {},
   "outputs": [
    {
     "data": {
      "text/plain": [
       "{'4000x2250': 257}"
      ]
     },
     "execution_count": 5,
     "metadata": {},
     "output_type": "execute_result"
    }
   ],
   "source": [
    "check_img_list_size(clm_imgs, CLM_SUBDIR)"
   ]
  },
  {
   "cell_type": "code",
   "execution_count": 6,
   "id": "33aaa151",
   "metadata": {},
   "outputs": [
    {
     "name": "stdout",
     "output_type": "stream",
     "text": [
      "285\n",
      "257\n"
     ]
    }
   ],
   "source": [
    "from xml.etree import ElementTree\n",
    "\n",
    "clr_xmls = get_all_with_ext(\"cavalcante/rust_xml_image\", \".xml\")\n",
    "clm_xmls = get_all_with_ext(\"cavalcante/miner_img_xml\", \".xml\")\n",
    "\n",
    "print(len(clr_xmls))\n",
    "print(len(clm_xmls))"
   ]
  },
  {
   "cell_type": "code",
   "execution_count": 5,
   "id": "fcd77040",
   "metadata": {},
   "outputs": [],
   "source": [
    "# Refered to https://machinelearningmastery.com/how-to-train-an-object-detection-model-with-keras/\n",
    "\n",
    "# function to extract bounding boxes from an annotation file\n",
    "def extract_boxes(filename):\n",
    "    # load and parse the file\n",
    "    tree = ElementTree.parse(filename)\n",
    "    # get the root of the document\n",
    "    root = tree.getroot()\n",
    "    # extract each bounding box\n",
    "    boxes = list()\n",
    "    for box in root.findall('.//bndbox'):\n",
    "        xmin = int(box.find('xmin').text)\n",
    "        ymin = int(box.find('ymin').text)\n",
    "        xmax = int(box.find('xmax').text)\n",
    "        ymax = int(box.find('ymax').text)\n",
    "        coors = [xmin, ymin, xmax, ymax]\n",
    "        boxes.append(coors)\n",
    "    # extract image dimensions\n",
    "    width = int(root.find('.//size/width').text)\n",
    "    height = int(root.find('.//size/height').text)\n",
    "    return boxes, width, height\n"
   ]
  },
  {
   "cell_type": "code",
   "execution_count": 7,
   "id": "46209cf0",
   "metadata": {},
   "outputs": [
    {
     "name": "stdout",
     "output_type": "stream",
     "text": [
      "[[2339, 163, 3299, 987], [2261, 1192, 2791, 1625], [739, 1034, 1252, 1373]] 4000 2250\n"
     ]
    }
   ],
   "source": [
    "# extract details form annotation file\n",
    "boxes, w, h = extract_boxes('cavalcante/miner_img_xml/bicho_mineiro0.xml')\n",
    "# summarize extracted details\n",
    "print(boxes, w, h)"
   ]
  },
  {
   "cell_type": "code",
   "execution_count": null,
   "id": "a3ed5d5c",
   "metadata": {},
   "outputs": [],
   "source": []
  }
 ],
 "metadata": {
  "kernelspec": {
   "display_name": "Python 3 (ipykernel)",
   "language": "python",
   "name": "python3"
  },
  "language_info": {
   "codemirror_mode": {
    "name": "ipython",
    "version": 3
   },
   "file_extension": ".py",
   "mimetype": "text/x-python",
   "name": "python",
   "nbconvert_exporter": "python",
   "pygments_lexer": "ipython3",
   "version": "3.8.10"
  }
 },
 "nbformat": 4,
 "nbformat_minor": 5
}
