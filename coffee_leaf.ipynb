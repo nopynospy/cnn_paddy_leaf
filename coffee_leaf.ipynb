{
  "nbformat": 4,
  "nbformat_minor": 5,
  "metadata": {
    "kernelspec": {
      "display_name": "Python 3 (ipykernel)",
      "language": "python",
      "name": "python3"
    },
    "language_info": {
      "codemirror_mode": {
        "name": "ipython",
        "version": 3
      },
      "file_extension": ".py",
      "mimetype": "text/x-python",
      "name": "python",
      "nbconvert_exporter": "python",
      "pygments_lexer": "ipython3",
      "version": "3.8.10"
    },
    "colab": {
      "name": "coffee_leaf.ipynb",
      "provenance": []
    }
  },
  "cells": [
    {
      "cell_type": "markdown",
      "metadata": {
        "id": "158e0480"
      },
      "source": [
        ""
      ],
      "id": "158e0480"
    },
    {
      "cell_type": "code",
      "metadata": {
        "id": "cwHQ7hOzxkCz",
        "colab": {
          "base_uri": "https://localhost:8080/"
        },
        "outputId": "18f6ee46-4f78-48c5-9344-43123b20b615"
      },
      "source": [
        "# mount drive first\n",
        "from google.colab import drive\n",
        "drive.mount('/content/drive')"
      ],
      "id": "cwHQ7hOzxkCz",
      "execution_count": 61,
      "outputs": [
        {
          "output_type": "stream",
          "name": "stdout",
          "text": [
            "Drive already mounted at /content/drive; to attempt to forcibly remount, call drive.mount(\"/content/drive\", force_remount=True).\n"
          ]
        }
      ]
    },
    {
      "cell_type": "code",
      "metadata": {
        "id": "_ZEHKSPIaRyQ",
        "colab": {
          "base_uri": "https://localhost:8080/"
        },
        "outputId": "eca2cd19-17b4-4017-ef5f-64af786cc0ef"
      },
      "source": [
        "import os\n",
        "\n",
        "ROOT = \"/content/drive/MyDrive/Labelled\"\n",
        "CLASSES = os.listdir(ROOT)\n",
        "CLASSES"
      ],
      "id": "_ZEHKSPIaRyQ",
      "execution_count": 62,
      "outputs": [
        {
          "output_type": "execute_result",
          "data": {
            "text/plain": [
              "['BrownSpot', 'Hispa', 'LeafBlast', 'Healthy', 'train', 'test']"
            ]
          },
          "metadata": {},
          "execution_count": 62
        }
      ]
    },
    {
      "cell_type": "code",
      "metadata": {
        "id": "LoaasDufdBCX"
      },
      "source": [
        "# def get_tt_path(class_name):\n",
        "#   train_folder = os.path.join(ROOT, class_name, \"train\")\n",
        "#   test_folder = os.path.join(ROOT, class_name, \"test\")\n",
        "#   if not os.path.isdir(train_folder):\n",
        "#     os.makedirs(train_folder)\n",
        "#   if not os.path.isdir(test_folder):\n",
        "#     os.makedirs(test_folder)\n",
        "#   return train_folder, test_folder\n",
        "\n",
        "# leafblast_train, leafblast_test = get_tt_path(CLASSES[0])\n",
        "# healthy_train, healthy_test = get_tt_path(CLASSES[1])\n",
        "# hidpa_train, hidpa_test = get_tt_path(CLASSES[2])\n",
        "# brownSpot_train, brownSpot_test = get_tt_path(CLASSES[3])"
      ],
      "id": "LoaasDufdBCX",
      "execution_count": null,
      "outputs": []
    },
    {
      "cell_type": "code",
      "metadata": {
        "id": "cak3bKlIglCY"
      },
      "source": [
        "def get_tt(tt, class_name):\n",
        "  # path = os.path.join(ROOT, class_name, tt)\n",
        "  # if not os.path.isdir(path):\n",
        "  #   os.makedirs(path)\n",
        "  path = os.path.join(ROOT, tt, class_name)\n",
        "  if not os.path.isdir(path):\n",
        "    os.makedirs(path)\n",
        "  return path"
      ],
      "id": "cak3bKlIglCY",
      "execution_count": null,
      "outputs": []
    },
    {
      "cell_type": "code",
      "metadata": {
        "id": "sLf-GW5Aeu9Y"
      },
      "source": [
        "from pathlib import Path\n",
        "import shutil\n",
        "\n",
        "def split_dataset(train_rate, class_name, reverse=False):\n",
        "  original_path = os.path.join(ROOT, class_name)\n",
        "  train_folder = get_tt(\"train\", class_name)\n",
        "  test_folder = get_tt(\"test\", class_name)\n",
        "\n",
        "  if reverse == True:\n",
        "    train_files = [os.path.join(train_folder, f) for f in os.listdir(train_folder) if f.endswith(\".jpg\")]\n",
        "    test_files = [os.path.join(test_folder, f) for f in os.listdir(test_folder) if f.endswith(\".jpg\")]\n",
        "\n",
        "    for f in train_files:\n",
        "      shutil.move(f, original_path)\n",
        "\n",
        "    for f in test_files:\n",
        "      shutil.move(f, original_path)\n",
        "\n",
        "  else:\n",
        "    image_files = [os.path.join(original_path, f) for f in os.listdir(original_path) if f.endswith(\".jpg\")]\n",
        "    train_files = image_files[:int((len(image_files)+1)*train_rate)]\n",
        "    test_files = image_files[int((len(image_files)+1)*train_rate):]\n",
        "\n",
        "    for f in train_files:\n",
        "      shutil.move(f, train_folder)\n",
        "\n",
        "    for f in test_files:\n",
        "      shutil.move(f, test_folder)\n",
        "\n",
        "  print(class_name + \" train folder file number:\")\n",
        "  print(len([f for f in os.listdir(train_folder)]))\n",
        "  print(class_name + \" test folder file number:\")\n",
        "  print(len([f for f in os.listdir(test_folder)]))\n",
        "\n",
        "  return train_folder, test_folder"
      ],
      "id": "sLf-GW5Aeu9Y",
      "execution_count": null,
      "outputs": []
    },
    {
      "cell_type": "code",
      "metadata": {
        "id": "bk56RmXtipkv",
        "colab": {
          "base_uri": "https://localhost:8080/"
        },
        "outputId": "b427a935-e5f4-4027-ff5e-71cd149e7f39"
      },
      "source": [
        "TRAIN_RATE_1 = 0.7\n",
        "\n",
        "leafblast_train1, leafblast_test1 = split_dataset(TRAIN_RATE_1, CLASSES[0])\n",
        "healthy_train1, healthy_test1 = split_dataset(TRAIN_RATE_1, CLASSES[1])\n",
        "hispa_train1, hispa_test1 = split_dataset(TRAIN_RATE_1, CLASSES[2])\n",
        "brownSpot_train1, brownSpot_test1 = split_dataset(TRAIN_RATE_1, CLASSES[3])"
      ],
      "id": "bk56RmXtipkv",
      "execution_count": null,
      "outputs": [
        {
          "output_type": "stream",
          "name": "stdout",
          "text": [
            "BrownSpot train folder file number:\n",
            "366\n",
            "BrownSpot test folder file number:\n",
            "157\n",
            "Hispa train folder file number:\n",
            "396\n",
            "Hispa test folder file number:\n",
            "169\n",
            "LeafBlast train folder file number:\n",
            "546\n",
            "LeafBlast test folder file number:\n",
            "233\n",
            "Healthy train folder file number:\n",
            "1042\n",
            "Healthy test folder file number:\n",
            "446\n"
          ]
        }
      ]
    },
    {
      "cell_type": "code",
      "metadata": {
        "id": "sveq1zAhhsQv",
        "colab": {
          "base_uri": "https://localhost:8080/"
        },
        "outputId": "3450738f-be03-4d1a-9847-b1ec241ee503"
      },
      "source": [
        "from keras.preprocessing.image import ImageDataGenerator\n",
        "\n",
        "TRAIN_DIR = os.path.join(ROOT, \"train\")\n",
        "TEST_DIR = os.path.join(ROOT, \"test\")\n",
        "\n",
        "IMG_SIZE = (331, 331)\n",
        "\n",
        "# All images will be rescaled by 1./255\n",
        "train_datagen = ImageDataGenerator(\n",
        "    rescale=1./127.5,\n",
        "    horizontal_flip = True,\n",
        "    rotation_range=20\n",
        "    )\n",
        "test_datagen = ImageDataGenerator(\n",
        "    rescale=1./127.5,\n",
        "    horizontal_flip = True,\n",
        "    rotation_range=20\n",
        "    )\n",
        "train_generator = train_datagen.flow_from_directory(\n",
        "        # This is the target directory\n",
        "        TRAIN_DIR,\n",
        "        # All images will be resized to 224x224\n",
        "        target_size=IMG_SIZE,\n",
        "        batch_size=20,\n",
        "        # Since we use binary_crossentropy loss, we need binary labels\n",
        "        class_mode='categorical')\n",
        "\n",
        "test_generator = test_datagen.flow_from_directory(\n",
        "        TEST_DIR,\n",
        "        target_size=IMG_SIZE,\n",
        "        batch_size=20,\n",
        "        class_mode='categorical')"
      ],
      "id": "sveq1zAhhsQv",
      "execution_count": 71,
      "outputs": [
        {
          "output_type": "stream",
          "name": "stdout",
          "text": [
            "Found 2350 images belonging to 4 classes.\n",
            "Found 1005 images belonging to 4 classes.\n"
          ]
        }
      ]
    },
    {
      "cell_type": "code",
      "metadata": {
        "id": "Ptwvbqd8WfWu",
        "colab": {
          "base_uri": "https://localhost:8080/"
        },
        "outputId": "b4e4a022-8109-43fa-a726-452c809b0ae4"
      },
      "source": [
        "for data_batch, labels_batch in train_generator:\n",
        "    print('data batch shape:', data_batch.shape)\n",
        "    print('labels batch shape:', labels_batch.shape)\n",
        "    break"
      ],
      "id": "Ptwvbqd8WfWu",
      "execution_count": 64,
      "outputs": [
        {
          "output_type": "stream",
          "name": "stdout",
          "text": [
            "data batch shape: (20, 331, 331, 3)\n",
            "labels batch shape: (20, 4)\n"
          ]
        }
      ]
    },
    {
      "cell_type": "markdown",
      "metadata": {
        "id": "VF_LPFQJS9Wp"
      },
      "source": [
        "# VGG16"
      ],
      "id": "VF_LPFQJS9Wp"
    },
    {
      "cell_type": "code",
      "metadata": {
        "id": "kkO9CZlnv9E_"
      },
      "source": [
        ""
      ],
      "id": "kkO9CZlnv9E_",
      "execution_count": null,
      "outputs": []
    },
    {
      "cell_type": "code",
      "metadata": {
        "id": "kNqmN5ydTA_n"
      },
      "source": [
        "import tensorflow as tf\n",
        "from keras.models import Sequential\n",
        "from keras.layers import Dense, Dropout, Flatten\n",
        "from keras.preprocessing.image import ImageDataGenerator\n",
        "from keras.utils.vis_utils import plot_model\n",
        "from tensorflow.keras import optimizers\n",
        "\n",
        "IMG_SIZE = (331, 331)\n",
        "IMG_SHAPE = IMG_SIZE + (3,)\n",
        "\n",
        "densenet169 = tf.keras.applications.DenseNet169(input_shape=IMG_SHAPE,\n",
        "                                                include_top=False,\n",
        "                                               weights='imagenet')"
      ],
      "id": "kNqmN5ydTA_n",
      "execution_count": 65,
      "outputs": []
    },
    {
      "cell_type": "code",
      "metadata": {
        "id": "seT2L_qxzvK-"
      },
      "source": [
        "densenet169.trainable = False"
      ],
      "id": "seT2L_qxzvK-",
      "execution_count": 66,
      "outputs": []
    },
    {
      "cell_type": "code",
      "metadata": {
        "id": "0-7-bjNH0hR2",
        "colab": {
          "base_uri": "https://localhost:8080/"
        },
        "outputId": "6514883e-2d10-43fe-eacb-3dbd4ebeb014"
      },
      "source": [
        "model = keras.models.Sequential()\n",
        "model.add(densenet169)\n",
        "# Add the custom layers atop the VGG19 model: \n",
        "model.add(Flatten(name='flattened'))\n",
        "# model.add(Dropout(0.5, name='dropout1'))\n",
        "# model.add(Dense(512, activation='relu'))\n",
        "model.add(Dropout(0.3, name='dropout2'))\n",
        "# model.add(Dense(1, activation='sigmoid', name='predictions'))\n",
        "model.add(Dense(4, activation='softmax'))\n",
        "\n",
        "model.compile(loss='categorical_crossentropy',\n",
        "              optimizer=optimizers.RMSprop(lr=0.0001),\n",
        "              metrics=['accuracy'])"
      ],
      "id": "0-7-bjNH0hR2",
      "execution_count": 67,
      "outputs": [
        {
          "output_type": "stream",
          "name": "stderr",
          "text": [
            "/usr/local/lib/python3.7/dist-packages/keras/optimizer_v2/rmsprop.py:130: UserWarning: The `lr` argument is deprecated, use `learning_rate` instead.\n",
            "  super(RMSprop, self).__init__(name, **kwargs)\n"
          ]
        }
      ]
    },
    {
      "cell_type": "code",
      "metadata": {
        "id": "jHVw48L90BKW",
        "colab": {
          "base_uri": "https://localhost:8080/"
        },
        "outputId": "a5c8a34f-3704-41f6-9444-60230111bc12"
      },
      "source": [
        "model.summary()"
      ],
      "id": "jHVw48L90BKW",
      "execution_count": 68,
      "outputs": [
        {
          "output_type": "stream",
          "name": "stdout",
          "text": [
            "Model: \"sequential_8\"\n",
            "_________________________________________________________________\n",
            " Layer (type)                Output Shape              Param #   \n",
            "=================================================================\n",
            " densenet169 (Functional)    (None, 10, 10, 1664)      12642880  \n",
            "                                                                 \n",
            " flattened (Flatten)         (None, 166400)            0         \n",
            "                                                                 \n",
            " dropout2 (Dropout)          (None, 166400)            0         \n",
            "                                                                 \n",
            " dense_5 (Dense)             (None, 4)                 665604    \n",
            "                                                                 \n",
            "=================================================================\n",
            "Total params: 13,308,484\n",
            "Trainable params: 665,604\n",
            "Non-trainable params: 12,642,880\n",
            "_________________________________________________________________\n"
          ]
        }
      ]
    },
    {
      "cell_type": "code",
      "metadata": {
        "id": "aI2FBgPi0Dun",
        "colab": {
          "base_uri": "https://localhost:8080/"
        },
        "outputId": "73fb39a4-7d45-4151-feda-edef6c5b02bb"
      },
      "source": [
        "dsn169_history = model.fit(\n",
        "      train_generator,\n",
        "      epochs=10,\n",
        "      validation_data=test_generator)"
      ],
      "id": "aI2FBgPi0Dun",
      "execution_count": null,
      "outputs": [
        {
          "output_type": "stream",
          "name": "stdout",
          "text": [
            "Epoch 1/10\n",
            "118/118 [==============================] - 1624s 14s/step - loss: 0.9374 - accuracy: 0.6894 - val_loss: 3.5409 - val_accuracy: 0.3692\n",
            "Epoch 2/10\n",
            "118/118 [==============================] - 1632s 14s/step - loss: 0.8825 - accuracy: 0.7311 - val_loss: 4.3448 - val_accuracy: 0.2667\n",
            "Epoch 3/10\n",
            "118/118 [==============================] - 1637s 14s/step - loss: 0.8322 - accuracy: 0.7281 - val_loss: 3.4176 - val_accuracy: 0.3881\n",
            "Epoch 4/10\n",
            "118/118 [==============================] - 1623s 14s/step - loss: 0.8075 - accuracy: 0.7417 - val_loss: 3.5177 - val_accuracy: 0.3532\n",
            "Epoch 5/10\n",
            " 63/118 [===============>..............] - ETA: 8:55 - loss: 0.7176 - accuracy: 0.7472"
          ]
        }
      ]
    },
    {
      "cell_type": "code",
      "metadata": {
        "id": "G39p2lWD0Se_",
        "colab": {
          "base_uri": "https://localhost:8080/",
          "height": 229
        },
        "outputId": "4c8253e1-ed2a-48b3-fd0c-0db10a9ba5e4"
      },
      "source": [
        "import matplotlib.pyplot as plt\n",
        "\n",
        "dsn169_accuracy = dsn169_history.history['accuracy']\n",
        "dsn169_val_acc = dsn169_history.history['val_accuracy']\n",
        "dsn169_loss = dsn169_history.history['loss']\n",
        "dsn169_val_loss = dsn169_history.history['val_loss']\n",
        "\n",
        "epochs = range(len(dsn169_accuracy))\n",
        "\n",
        "plt.plot(epochs, dsn169_accuracy, 'bo', label='Training acc')\n",
        "plt.plot(epochs, dsn169_val_acc, 'b', label='Validation acc')\n",
        "plt.title('Training and validation accuracy')\n",
        "plt.legend()\n",
        "\n",
        "plt.figure()\n",
        "\n",
        "plt.plot(epochs, dsn169_loss, 'bo', label='Training loss')\n",
        "plt.plot(epochs, dsn169_val_loss, 'b', label='Validation loss')\n",
        "plt.title('Training and validation loss')\n",
        "plt.legend()\n",
        "\n",
        "plt.show()"
      ],
      "id": "G39p2lWD0Se_",
      "execution_count": 70,
      "outputs": [
        {
          "output_type": "error",
          "ename": "NameError",
          "evalue": "ignored",
          "traceback": [
            "\u001b[0;31m---------------------------------------------------------------------------\u001b[0m",
            "\u001b[0;31mNameError\u001b[0m                                 Traceback (most recent call last)",
            "\u001b[0;32m<ipython-input-70-1a3bd85f55d1>\u001b[0m in \u001b[0;36m<module>\u001b[0;34m()\u001b[0m\n\u001b[1;32m      1\u001b[0m \u001b[0;32mimport\u001b[0m \u001b[0mmatplotlib\u001b[0m\u001b[0;34m.\u001b[0m\u001b[0mpyplot\u001b[0m \u001b[0;32mas\u001b[0m \u001b[0mplt\u001b[0m\u001b[0;34m\u001b[0m\u001b[0;34m\u001b[0m\u001b[0m\n\u001b[1;32m      2\u001b[0m \u001b[0;34m\u001b[0m\u001b[0m\n\u001b[0;32m----> 3\u001b[0;31m \u001b[0mdsn169_accuracy\u001b[0m \u001b[0;34m=\u001b[0m \u001b[0mdsn169_history\u001b[0m\u001b[0;34m.\u001b[0m\u001b[0mhistory\u001b[0m\u001b[0;34m[\u001b[0m\u001b[0;34m'accuracy'\u001b[0m\u001b[0;34m]\u001b[0m\u001b[0;34m\u001b[0m\u001b[0;34m\u001b[0m\u001b[0m\n\u001b[0m\u001b[1;32m      4\u001b[0m \u001b[0mdsn169_val_acc\u001b[0m \u001b[0;34m=\u001b[0m \u001b[0mdsn169_history\u001b[0m\u001b[0;34m.\u001b[0m\u001b[0mhistory\u001b[0m\u001b[0;34m[\u001b[0m\u001b[0;34m'val_accuracy'\u001b[0m\u001b[0;34m]\u001b[0m\u001b[0;34m\u001b[0m\u001b[0;34m\u001b[0m\u001b[0m\n\u001b[1;32m      5\u001b[0m \u001b[0mdsn169_loss\u001b[0m \u001b[0;34m=\u001b[0m \u001b[0mdsn169_history\u001b[0m\u001b[0;34m.\u001b[0m\u001b[0mhistory\u001b[0m\u001b[0;34m[\u001b[0m\u001b[0;34m'loss'\u001b[0m\u001b[0;34m]\u001b[0m\u001b[0;34m\u001b[0m\u001b[0;34m\u001b[0m\u001b[0m\n",
            "\u001b[0;31mNameError\u001b[0m: name 'dsn169_history' is not defined"
          ]
        }
      ]
    },
    {
      "cell_type": "code",
      "metadata": {
        "id": "nqbYqFau0Diu"
      },
      "source": [
        ""
      ],
      "id": "nqbYqFau0Diu",
      "execution_count": null,
      "outputs": []
    },
    {
      "cell_type": "code",
      "metadata": {
        "id": "C4EHWyJjGigJ"
      },
      "source": [
        ""
      ],
      "id": "C4EHWyJjGigJ",
      "execution_count": null,
      "outputs": []
    },
    {
      "cell_type": "code",
      "metadata": {
        "id": "dM4pdnx8TFUX"
      },
      "source": [
        "for layer in vgg16.layers:\n",
        "    layer.trainable = False"
      ],
      "id": "dM4pdnx8TFUX",
      "execution_count": null,
      "outputs": []
    },
    {
      "cell_type": "code",
      "metadata": {
        "id": "6NpRVhVQTG92",
        "colab": {
          "base_uri": "https://localhost:8080/"
        },
        "outputId": "ad16181e-8b87-4114-d1b8-29d1be9513d9"
      },
      "source": [
        "import keras\n",
        "from tensorflow.keras import optimizers\n",
        "# Instantiate the sequential model and add the VGG16 model: \n",
        "vgg_model1 = keras.models.Sequential()\n",
        "vgg_model1.add(vgg16)\n",
        "# Add the custom layers atop the VGG19 model: \n",
        "# vgg_model1.add(Flatten(name='flattened'))\n",
        "# vgg_model1.add(Dropout(0.5, name='dropout1'))\n",
        "# vgg_model1.add(Dense(512, activation='relu'))\n",
        "# vgg_model1.add(Dropout(0.3, name='dropout2'))\n",
        "# vgg_model1.add(Dense(1, activation='sigmoid', name='predictions'))\n",
        "vgg_model1.add(Dense(3, activation='softmax', name='predictions'))\n",
        "vgg_model1.compile(loss='categorical_crossentropy',\n",
        "              optimizer=optimizers.RMSprop(lr=1e-4),\n",
        "              metrics=['accuracy'])"
      ],
      "id": "6NpRVhVQTG92",
      "execution_count": null,
      "outputs": [
        {
          "output_type": "stream",
          "name": "stderr",
          "text": [
            "/usr/local/lib/python3.7/dist-packages/keras/optimizer_v2/rmsprop.py:130: UserWarning: The `lr` argument is deprecated, use `learning_rate` instead.\n",
            "  super(RMSprop, self).__init__(name, **kwargs)\n"
          ]
        }
      ]
    },
    {
      "cell_type": "code",
      "metadata": {
        "id": "B_PyxgtYTHaX",
        "colab": {
          "base_uri": "https://localhost:8080/"
        },
        "outputId": "ddd4c180-51f5-4868-e4c8-db41e7462fbd"
      },
      "source": [
        "vgg_model1.summary()"
      ],
      "id": "B_PyxgtYTHaX",
      "execution_count": null,
      "outputs": [
        {
          "output_type": "stream",
          "name": "stdout",
          "text": [
            "Model: \"sequential_10\"\n",
            "_________________________________________________________________\n",
            " Layer (type)                Output Shape              Param #   \n",
            "=================================================================\n",
            " vgg16 (Functional)          (None, 7, 7, 512)         14714688  \n",
            "                                                                 \n",
            " flattened (Flatten)         (None, 25088)             0         \n",
            "                                                                 \n",
            " dropout1 (Dropout)          (None, 25088)             0         \n",
            "                                                                 \n",
            " dense_7 (Dense)             (None, 512)               12845568  \n",
            "                                                                 \n",
            " dropout2 (Dropout)          (None, 512)               0         \n",
            "                                                                 \n",
            " predictions (Dense)         (None, 3)                 1539      \n",
            "                                                                 \n",
            "=================================================================\n",
            "Total params: 27,561,795\n",
            "Trainable params: 12,847,107\n",
            "Non-trainable params: 14,714,688\n",
            "_________________________________________________________________\n"
          ]
        }
      ]
    },
    {
      "cell_type": "code",
      "metadata": {
        "id": "GIIibkSoTIuo",
        "colab": {
          "base_uri": "https://localhost:8080/",
          "height": 272
        },
        "outputId": "7100d850-479d-4394-9aef-dc38712fbadf"
      },
      "source": [
        "plot_model(vgg_model1)"
      ],
      "id": "GIIibkSoTIuo",
      "execution_count": null,
      "outputs": [
        {
          "output_type": "execute_result",
          "data": {
            "image/png": "[encoded data removed]",
            "text/plain": [
              "<IPython.core.display.Image object>"
            ]
          },
          "metadata": {},
          "execution_count": 94
        }
      ]
    },
    {
      "cell_type": "code",
      "metadata": {
        "id": "iS77bsPsTLue",
        "colab": {
          "base_uri": "https://localhost:8080/",
          "height": 1000
        },
        "outputId": "665e3790-64d8-451a-cdf0-7fae218c7aa7"
      },
      "source": [
        "base_vgg = VGG16(weights='imagenet', include_top = False)\n",
        "base_vgg.summary()\n",
        "plot_model(base_vgg)"
      ],
      "id": "iS77bsPsTLue",
      "execution_count": null,
      "outputs": [
        {
          "output_type": "stream",
          "name": "stdout",
          "text": [
            "Model: \"vgg16\"\n",
            "_________________________________________________________________\n",
            " Layer (type)                Output Shape              Param #   \n",
            "=================================================================\n",
            " input_11 (InputLayer)       [(None, None, None, 3)]   0         \n",
            "                                                                 \n",
            " block1_conv1 (Conv2D)       (None, None, None, 64)    1792      \n",
            "                                                                 \n",
            " block1_conv2 (Conv2D)       (None, None, None, 64)    36928     \n",
            "                                                                 \n",
            " block1_pool (MaxPooling2D)  (None, None, None, 64)    0         \n",
            "                                                                 \n",
            " block2_conv1 (Conv2D)       (None, None, None, 128)   73856     \n",
            "                                                                 \n",
            " block2_conv2 (Conv2D)       (None, None, None, 128)   147584    \n",
            "                                                                 \n",
            " block2_pool (MaxPooling2D)  (None, None, None, 128)   0         \n",
            "                                                                 \n",
            " block3_conv1 (Conv2D)       (None, None, None, 256)   295168    \n",
            "                                                                 \n",
            " block3_conv2 (Conv2D)       (None, None, None, 256)   590080    \n",
            "                                                                 \n",
            " block3_conv3 (Conv2D)       (None, None, None, 256)   590080    \n",
            "                                                                 \n",
            " block3_pool (MaxPooling2D)  (None, None, None, 256)   0         \n",
            "                                                                 \n",
            " block4_conv1 (Conv2D)       (None, None, None, 512)   1180160   \n",
            "                                                                 \n",
            " block4_conv2 (Conv2D)       (None, None, None, 512)   2359808   \n",
            "                                                                 \n",
            " block4_conv3 (Conv2D)       (None, None, None, 512)   2359808   \n",
            "                                                                 \n",
            " block4_pool (MaxPooling2D)  (None, None, None, 512)   0         \n",
            "                                                                 \n",
            " block5_conv1 (Conv2D)       (None, None, None, 512)   2359808   \n",
            "                                                                 \n",
            " block5_conv2 (Conv2D)       (None, None, None, 512)   2359808   \n",
            "                                                                 \n",
            " block5_conv3 (Conv2D)       (None, None, None, 512)   2359808   \n",
            "                                                                 \n",
            " block5_pool (MaxPooling2D)  (None, None, None, 512)   0         \n",
            "                                                                 \n",
            "=================================================================\n",
            "Total params: 14,714,688\n",
            "Trainable params: 14,714,688\n",
            "Non-trainable params: 0\n",
            "_________________________________________________________________\n"
          ]
        },
        {
          "output_type": "execute_result",
          "data": {
            "image/png": "[encoded data removed]",
            "text/plain": [
              "<IPython.core.display.Image object>"
            ]
          },
          "metadata": {},
          "execution_count": 95
        }
      ]
    },
    {
      "cell_type": "code",
      "metadata": {
        "id": "5wAL6fUkTO5w",
        "colab": {
          "base_uri": "https://localhost:8080/",
          "height": 706
        },
        "outputId": "0d4af49b-a35c-42e3-950c-713cc6e457c3"
      },
      "source": [
        "vgg_history = vgg_model1.fit(\n",
        "      train_generator,\n",
        "      steps_per_epoch=100,\n",
        "      epochs=30,\n",
        "      validation_data=test_generator,\n",
        "      validation_steps=50)"
      ],
      "id": "5wAL6fUkTO5w",
      "execution_count": null,
      "outputs": [
        {
          "output_type": "stream",
          "name": "stdout",
          "text": [
            "Epoch 1/30\n"
          ]
        },
        {
          "output_type": "error",
          "ename": "ValueError",
          "evalue": "ignored",
          "traceback": [
            "\u001b[0;31m---------------------------------------------------------------------------\u001b[0m",
            "\u001b[0;31mValueError\u001b[0m                                Traceback (most recent call last)",
            "\u001b[0;32m<ipython-input-96-0d1ae4a47c39>\u001b[0m in \u001b[0;36m<module>\u001b[0;34m()\u001b[0m\n\u001b[1;32m      4\u001b[0m       \u001b[0mepochs\u001b[0m\u001b[0;34m=\u001b[0m\u001b[0;36m30\u001b[0m\u001b[0;34m,\u001b[0m\u001b[0;34m\u001b[0m\u001b[0;34m\u001b[0m\u001b[0m\n\u001b[1;32m      5\u001b[0m       \u001b[0mvalidation_data\u001b[0m\u001b[0;34m=\u001b[0m\u001b[0mtest_generator\u001b[0m\u001b[0;34m,\u001b[0m\u001b[0;34m\u001b[0m\u001b[0;34m\u001b[0m\u001b[0m\n\u001b[0;32m----> 6\u001b[0;31m       validation_steps=50)\n\u001b[0m",
            "\u001b[0;32m/usr/local/lib/python3.7/dist-packages/keras/utils/traceback_utils.py\u001b[0m in \u001b[0;36merror_handler\u001b[0;34m(*args, **kwargs)\u001b[0m\n\u001b[1;32m     65\u001b[0m     \u001b[0;32mexcept\u001b[0m \u001b[0mException\u001b[0m \u001b[0;32mas\u001b[0m \u001b[0me\u001b[0m\u001b[0;34m:\u001b[0m  \u001b[0;31m# pylint: disable=broad-except\u001b[0m\u001b[0;34m\u001b[0m\u001b[0;34m\u001b[0m\u001b[0m\n\u001b[1;32m     66\u001b[0m       \u001b[0mfiltered_tb\u001b[0m \u001b[0;34m=\u001b[0m \u001b[0m_process_traceback_frames\u001b[0m\u001b[0;34m(\u001b[0m\u001b[0me\u001b[0m\u001b[0;34m.\u001b[0m\u001b[0m__traceback__\u001b[0m\u001b[0;34m)\u001b[0m\u001b[0;34m\u001b[0m\u001b[0;34m\u001b[0m\u001b[0m\n\u001b[0;32m---> 67\u001b[0;31m       \u001b[0;32mraise\u001b[0m \u001b[0me\u001b[0m\u001b[0;34m.\u001b[0m\u001b[0mwith_traceback\u001b[0m\u001b[0;34m(\u001b[0m\u001b[0mfiltered_tb\u001b[0m\u001b[0;34m)\u001b[0m \u001b[0;32mfrom\u001b[0m \u001b[0;32mNone\u001b[0m\u001b[0;34m\u001b[0m\u001b[0;34m\u001b[0m\u001b[0m\n\u001b[0m\u001b[1;32m     68\u001b[0m     \u001b[0;32mfinally\u001b[0m\u001b[0;34m:\u001b[0m\u001b[0;34m\u001b[0m\u001b[0;34m\u001b[0m\u001b[0m\n\u001b[1;32m     69\u001b[0m       \u001b[0;32mdel\u001b[0m \u001b[0mfiltered_tb\u001b[0m\u001b[0;34m\u001b[0m\u001b[0;34m\u001b[0m\u001b[0m\n",
            "\u001b[0;32m/usr/local/lib/python3.7/dist-packages/tensorflow/python/framework/func_graph.py\u001b[0m in \u001b[0;36mautograph_handler\u001b[0;34m(*args, **kwargs)\u001b[0m\n\u001b[1;32m   1127\u001b[0m           \u001b[0;32mexcept\u001b[0m \u001b[0mException\u001b[0m \u001b[0;32mas\u001b[0m \u001b[0me\u001b[0m\u001b[0;34m:\u001b[0m  \u001b[0;31m# pylint:disable=broad-except\u001b[0m\u001b[0;34m\u001b[0m\u001b[0;34m\u001b[0m\u001b[0m\n\u001b[1;32m   1128\u001b[0m             \u001b[0;32mif\u001b[0m \u001b[0mhasattr\u001b[0m\u001b[0;34m(\u001b[0m\u001b[0me\u001b[0m\u001b[0;34m,\u001b[0m \u001b[0;34m\"ag_error_metadata\"\u001b[0m\u001b[0;34m)\u001b[0m\u001b[0;34m:\u001b[0m\u001b[0;34m\u001b[0m\u001b[0;34m\u001b[0m\u001b[0m\n\u001b[0;32m-> 1129\u001b[0;31m               \u001b[0;32mraise\u001b[0m \u001b[0me\u001b[0m\u001b[0;34m.\u001b[0m\u001b[0mag_error_metadata\u001b[0m\u001b[0;34m.\u001b[0m\u001b[0mto_exception\u001b[0m\u001b[0;34m(\u001b[0m\u001b[0me\u001b[0m\u001b[0;34m)\u001b[0m\u001b[0;34m\u001b[0m\u001b[0;34m\u001b[0m\u001b[0m\n\u001b[0m\u001b[1;32m   1130\u001b[0m             \u001b[0;32melse\u001b[0m\u001b[0;34m:\u001b[0m\u001b[0;34m\u001b[0m\u001b[0;34m\u001b[0m\u001b[0m\n\u001b[1;32m   1131\u001b[0m               \u001b[0;32mraise\u001b[0m\u001b[0;34m\u001b[0m\u001b[0;34m\u001b[0m\u001b[0m\n",
            "\u001b[0;31mValueError\u001b[0m: in user code:\n\n    File \"/usr/local/lib/python3.7/dist-packages/keras/engine/training.py\", line 878, in train_function  *\n        return step_function(self, iterator)\n    File \"/usr/local/lib/python3.7/dist-packages/keras/engine/training.py\", line 867, in step_function  **\n        outputs = model.distribute_strategy.run(run_step, args=(data,))\n    File \"/usr/local/lib/python3.7/dist-packages/keras/engine/training.py\", line 860, in run_step  **\n        outputs = model.train_step(data)\n    File \"/usr/local/lib/python3.7/dist-packages/keras/engine/training.py\", line 810, in train_step\n        y, y_pred, sample_weight, regularization_losses=self.losses)\n    File \"/usr/local/lib/python3.7/dist-packages/keras/engine/compile_utils.py\", line 201, in __call__\n        loss_value = loss_obj(y_t, y_p, sample_weight=sw)\n    File \"/usr/local/lib/python3.7/dist-packages/keras/losses.py\", line 141, in __call__\n        losses = call_fn(y_true, y_pred)\n    File \"/usr/local/lib/python3.7/dist-packages/keras/losses.py\", line 245, in call  **\n        return ag_fn(y_true, y_pred, **self._fn_kwargs)\n    File \"/usr/local/lib/python3.7/dist-packages/keras/losses.py\", line 1665, in categorical_crossentropy\n        y_true, y_pred, from_logits=from_logits, axis=axis)\n    File \"/usr/local/lib/python3.7/dist-packages/keras/backend.py\", line 4994, in categorical_crossentropy\n        target.shape.assert_is_compatible_with(output.shape)\n\n    ValueError: Shapes (None,) and (None, 7, 7, 3) are incompatible\n"
          ]
        }
      ]
    },
    {
      "cell_type": "code",
      "metadata": {
        "id": "tyDTDqBnWfKv"
      },
      "source": [
        "import matplotlib.pyplot as plt\n",
        "\n",
        "vgg_accuracy = vgg_history.history['accuracy']\n",
        "vgg_val_acc = vgg_history.history['val_accuracy']\n",
        "vgg_loss = vgg_history.history['loss']\n",
        "vgg_val_loss = vgg_history.history['val_loss']\n",
        "\n",
        "epochs = range(len(vgg_accuracy))\n",
        "\n",
        "plt.plot(epochs, vgg_accuracy, 'bo', label='Training acc')\n",
        "plt.plot(epochs, vgg_val_acc, 'b', label='Validation acc')\n",
        "plt.title('Training and validation accuracy')\n",
        "plt.legend()\n",
        "\n",
        "plt.figure()\n",
        "\n",
        "plt.plot(epochs, vgg_loss, 'bo', label='Training loss')\n",
        "plt.plot(epochs, vgg_val_loss, 'b', label='Validation loss')\n",
        "plt.title('Training and validation loss')\n",
        "plt.legend()\n",
        "\n",
        "plt.show()"
      ],
      "id": "tyDTDqBnWfKv",
      "execution_count": null,
      "outputs": []
    },
    {
      "cell_type": "code",
      "metadata": {
        "id": "0PzAfaQwONsn"
      },
      "source": [
        "# split_dataset(TRAIN_RATE_1, CLASSES[0], reverse=True)\n",
        "# split_dataset(TRAIN_RATE_1, CLASSES[1], reverse=True)\n",
        "# split_dataset(TRAIN_RATE_1, CLASSES[2], reverse=True)\n",
        "# split_dataset(TRAIN_RATE_1, CLASSES[3], reverse=True)"
      ],
      "id": "0PzAfaQwONsn",
      "execution_count": null,
      "outputs": []
    },
    {
      "cell_type": "code",
      "metadata": {
        "id": "Wz9Ve38zPXGO"
      },
      "source": [
        ""
      ],
      "id": "Wz9Ve38zPXGO",
      "execution_count": null,
      "outputs": []
    },
    {
      "cell_type": "code",
      "metadata": {
        "id": "J7OvUQLuHHW9",
        "colab": {
          "base_uri": "https://localhost:8080/",
          "height": 203
        },
        "outputId": "9678e6bd-9f31-444d-9af9-5e78f5a10361"
      },
      "source": [
        "import pandas as pd\n",
        "\n",
        "ROOT = \"/content/drive/MyDrive/kaggle_bee_vs_wasp/\"\n",
        "\n",
        "meta_df = pd.read_csv(ROOT+'labels.csv')\n",
        "meta_df.head()"
      ],
      "id": "J7OvUQLuHHW9",
      "execution_count": null,
      "outputs": [
        {
          "output_type": "execute_result",
          "data": {
            "text/html": [
              "<div>\n",
              "<style scoped>\n",
              "    .dataframe tbody tr th:only-of-type {\n",
              "        vertical-align: middle;\n",
              "    }\n",
              "\n",
              "    .dataframe tbody tr th {\n",
              "        vertical-align: top;\n",
              "    }\n",
              "\n",
              "    .dataframe thead th {\n",
              "        text-align: right;\n",
              "    }\n",
              "</style>\n",
              "<table border=\"1\" class=\"dataframe\">\n",
              "  <thead>\n",
              "    <tr style=\"text-align: right;\">\n",
              "      <th></th>\n",
              "      <th>id</th>\n",
              "      <th>path</th>\n",
              "      <th>is_bee</th>\n",
              "      <th>is_wasp</th>\n",
              "      <th>is_otherinsect</th>\n",
              "      <th>is_other</th>\n",
              "      <th>photo_quality</th>\n",
              "      <th>is_validation</th>\n",
              "      <th>is_final_validation</th>\n",
              "      <th>label</th>\n",
              "    </tr>\n",
              "  </thead>\n",
              "  <tbody>\n",
              "    <tr>\n",
              "      <th>0</th>\n",
              "      <td>1</td>\n",
              "      <td>bee1\\10007154554_026417cfd0_n.jpg</td>\n",
              "      <td>1</td>\n",
              "      <td>0</td>\n",
              "      <td>0</td>\n",
              "      <td>0</td>\n",
              "      <td>1</td>\n",
              "      <td>0</td>\n",
              "      <td>0</td>\n",
              "      <td>bee</td>\n",
              "    </tr>\n",
              "    <tr>\n",
              "      <th>1</th>\n",
              "      <td>2</td>\n",
              "      <td>bee1\\10024864894_6dc54d4b34_n.jpg</td>\n",
              "      <td>1</td>\n",
              "      <td>0</td>\n",
              "      <td>0</td>\n",
              "      <td>0</td>\n",
              "      <td>1</td>\n",
              "      <td>0</td>\n",
              "      <td>1</td>\n",
              "      <td>bee</td>\n",
              "    </tr>\n",
              "    <tr>\n",
              "      <th>2</th>\n",
              "      <td>3</td>\n",
              "      <td>bee1\\10092043833_7306dfd1f0_n.jpg</td>\n",
              "      <td>1</td>\n",
              "      <td>0</td>\n",
              "      <td>0</td>\n",
              "      <td>0</td>\n",
              "      <td>1</td>\n",
              "      <td>1</td>\n",
              "      <td>0</td>\n",
              "      <td>bee</td>\n",
              "    </tr>\n",
              "    <tr>\n",
              "      <th>3</th>\n",
              "      <td>4</td>\n",
              "      <td>bee1\\1011948979_fc3637e779_w.jpg</td>\n",
              "      <td>1</td>\n",
              "      <td>0</td>\n",
              "      <td>0</td>\n",
              "      <td>0</td>\n",
              "      <td>1</td>\n",
              "      <td>0</td>\n",
              "      <td>1</td>\n",
              "      <td>bee</td>\n",
              "    </tr>\n",
              "    <tr>\n",
              "      <th>4</th>\n",
              "      <td>5</td>\n",
              "      <td>bee1\\10128235063_dca17db76c_n.jpg</td>\n",
              "      <td>1</td>\n",
              "      <td>0</td>\n",
              "      <td>0</td>\n",
              "      <td>0</td>\n",
              "      <td>1</td>\n",
              "      <td>0</td>\n",
              "      <td>0</td>\n",
              "      <td>bee</td>\n",
              "    </tr>\n",
              "  </tbody>\n",
              "</table>\n",
              "</div>"
            ],
            "text/plain": [
              "   id                               path  ...  is_final_validation  label\n",
              "0   1  bee1\\10007154554_026417cfd0_n.jpg  ...                    0    bee\n",
              "1   2  bee1\\10024864894_6dc54d4b34_n.jpg  ...                    1    bee\n",
              "2   3  bee1\\10092043833_7306dfd1f0_n.jpg  ...                    0    bee\n",
              "3   4   bee1\\1011948979_fc3637e779_w.jpg  ...                    1    bee\n",
              "4   5  bee1\\10128235063_dca17db76c_n.jpg  ...                    0    bee\n",
              "\n",
              "[5 rows x 10 columns]"
            ]
          },
          "metadata": {},
          "execution_count": 2
        }
      ]
    },
    {
      "cell_type": "code",
      "metadata": {
        "id": "Wz10YzDUHusV",
        "colab": {
          "base_uri": "https://localhost:8080/",
          "height": 49
        },
        "outputId": "e2f12a45-3e93-46e3-876b-3f5c00c2f86f"
      },
      "source": [
        "meta_df[meta_df.isna().any(axis=1)]"
      ],
      "id": "Wz10YzDUHusV",
      "execution_count": null,
      "outputs": [
        {
          "output_type": "execute_result",
          "data": {
            "text/html": [
              "<div>\n",
              "<style scoped>\n",
              "    .dataframe tbody tr th:only-of-type {\n",
              "        vertical-align: middle;\n",
              "    }\n",
              "\n",
              "    .dataframe tbody tr th {\n",
              "        vertical-align: top;\n",
              "    }\n",
              "\n",
              "    .dataframe thead th {\n",
              "        text-align: right;\n",
              "    }\n",
              "</style>\n",
              "<table border=\"1\" class=\"dataframe\">\n",
              "  <thead>\n",
              "    <tr style=\"text-align: right;\">\n",
              "      <th></th>\n",
              "      <th>id</th>\n",
              "      <th>path</th>\n",
              "      <th>is_bee</th>\n",
              "      <th>is_wasp</th>\n",
              "      <th>is_otherinsect</th>\n",
              "      <th>is_other</th>\n",
              "      <th>photo_quality</th>\n",
              "      <th>is_validation</th>\n",
              "      <th>is_final_validation</th>\n",
              "      <th>label</th>\n",
              "    </tr>\n",
              "  </thead>\n",
              "  <tbody>\n",
              "  </tbody>\n",
              "</table>\n",
              "</div>"
            ],
            "text/plain": [
              "Empty DataFrame\n",
              "Columns: [id, path, is_bee, is_wasp, is_otherinsect, is_other, photo_quality, is_validation, is_final_validation, label]\n",
              "Index: []"
            ]
          },
          "metadata": {},
          "execution_count": 3
        }
      ]
    },
    {
      "cell_type": "code",
      "metadata": {
        "id": "7XvNHf95HwhN",
        "colab": {
          "base_uri": "https://localhost:8080/"
        },
        "outputId": "699c9cf6-2280-4e4c-9b29-2aa5314909d1"
      },
      "source": [
        "def set_train_type(row):\n",
        "    if row['is_validation'] == 0 and row['is_final_validation'] == 0:\n",
        "        return 'train'\n",
        "    return 'validation'\n",
        "\n",
        "meta_df['type'] = meta_df.apply(set_train_type, axis=1)\n",
        "print('Number values of each type')\n",
        "meta_df['type'].value_counts()"
      ],
      "id": "7XvNHf95HwhN",
      "execution_count": null,
      "outputs": [
        {
          "output_type": "stream",
          "name": "stdout",
          "text": [
            "Number values of each type\n"
          ]
        },
        {
          "output_type": "execute_result",
          "data": {
            "text/plain": [
              "train         7939\n",
              "validation    3482\n",
              "Name: type, dtype: int64"
            ]
          },
          "metadata": {},
          "execution_count": 5
        }
      ]
    },
    {
      "cell_type": "code",
      "metadata": {
        "id": "F-a_kyBXH9Zg",
        "colab": {
          "base_uri": "https://localhost:8080/",
          "height": 279
        },
        "outputId": "716fa864-b119-42a4-cba1-17f224c523ff"
      },
      "source": [
        "import matplotlib.pyplot as plt\n",
        "import seaborn as sns\n",
        "\n",
        "ax = sns.countplot(x=\"label\", data=meta_df)\n",
        "for p in ax.patches:\n",
        "    ax.annotate(f'\\n{p.get_height()}', (p.get_x()+0.4, p.get_height()), ha='center', va='top', color='white', size=18)\n",
        "plt.show()"
      ],
      "id": "F-a_kyBXH9Zg",
      "execution_count": null,
      "outputs": [
        {
          "output_type": "display_data",
          "data": {
            "image/png": "[encoded data removed]",
            "text/plain": [
              "<Figure size 432x288 with 1 Axes>"
            ]
          },
          "metadata": {
            "needs_background": "light"
          }
        }
      ]
    },
    {
      "cell_type": "code",
      "metadata": {
        "id": "9syWvdQWIHXN"
      },
      "source": [
        ""
      ],
      "id": "9syWvdQWIHXN",
      "execution_count": null,
      "outputs": []
    },
    {
      "cell_type": "code",
      "metadata": {
        "id": "31c073c2",
        "colab": {
          "base_uri": "https://localhost:8080/"
        },
        "outputId": "034bbd93-a637-4237-e7d7-18b4e331fd6e"
      },
      "source": [
        "import os\n",
        "\n",
        "CLR_SUBDIR = \"/content/drive/MyDrive/cavalcante/rust_xml_image/\"\n",
        "CLM_SUBDIR = \"/content/drive/MyDrive/cavalcante/miner_img_xml/\"\n",
        "\n",
        "TARGET_SIZE1 = (300, 300)\n",
        "TARGET_SIZE2 = (512, 512)\n",
        "\n",
        "def get_all_with_ext(subdir, ext):\n",
        "  return [f for f in os.listdir(subdir) if f.endswith(ext)]\n",
        "  # paths = []\n",
        "  # for f in os.listdir(subdir):\n",
        "  #   if f.endswith(ext):\n",
        "  #     paths.append(os.path.join(subdir,f))\n",
        "  # return paths\n",
        "\n",
        "clr_imgs = get_all_with_ext(CLR_SUBDIR, \".jpg\")\n",
        "clm_imgs = get_all_with_ext(CLM_SUBDIR, \".jpg\")\n",
        "\n",
        "print(len(clr_imgs))\n",
        "print(len(clm_imgs))"
      ],
      "id": "31c073c2",
      "execution_count": null,
      "outputs": [
        {
          "output_type": "stream",
          "name": "stdout",
          "text": [
            "285\n",
            "257\n"
          ]
        }
      ]
    },
    {
      "cell_type": "code",
      "metadata": {
        "id": "33aaa151",
        "colab": {
          "base_uri": "https://localhost:8080/"
        },
        "outputId": "d0a3044d-7b7c-4b77-8d12-f353a14357dc"
      },
      "source": [
        "clr_xmls = get_all_with_ext(CLR_SUBDIR, \".xml\")\n",
        "clm_xmls = get_all_with_ext(CLM_SUBDIR, \".xml\")\n",
        "\n",
        "print(len(clr_xmls))\n",
        "print(len(clm_xmls))"
      ],
      "id": "33aaa151",
      "execution_count": null,
      "outputs": [
        {
          "output_type": "stream",
          "name": "stdout",
          "text": [
            "285\n",
            "257\n"
          ]
        }
      ]
    },
    {
      "cell_type": "code",
      "metadata": {
        "id": "Yf8urMswtdBt"
      },
      "source": [
        "import pandas as pd \n",
        "import os\n",
        "import numpy as np \n",
        "import cv2\n",
        "from keras.preprocessing import image \n",
        "from sklearn.model_selection import train_test_split\n",
        "import matplotlib.pyplot as plt\n",
        "from tensorflow.keras.utils import to_categorical\n",
        "from skimage.segmentation import mark_boundaries \n",
        "\n",
        "def get_image_value(path, dim): \n",
        "    '''This function will read an image and convert to a specified version and resize depending on which algorithm is being used. '''\n",
        "    img = image.load_img(path, target_size = dim)\n",
        "    img = image.img_to_array(img)\n",
        "    return img/255\n",
        "\n",
        "def get_img_array(img_paths, dim): \n",
        "    '''This fucntion takes a list of image paths and returns the np array corresponding to each image.  It also takes the dim and whether edge is specified in order to pass it to another function to apply these parameters.  This function uses get_image_value to perform these operations'''\n",
        "    final_array = []\n",
        "    from tqdm import tqdm\n",
        "    for path in tqdm(img_paths):\n",
        "        img = get_image_value(path, dim)\n",
        "        final_array.append(img)\n",
        "    final_array = np.array(final_array)  \n",
        "    return final_array"
      ],
      "id": "Yf8urMswtdBt",
      "execution_count": null,
      "outputs": []
    },
    {
      "cell_type": "code",
      "metadata": {
        "id": "BsoBR743trqV",
        "colab": {
          "base_uri": "https://localhost:8080/"
        },
        "outputId": "5da77a0e-963d-414b-8d8b-6d2d79fe6b39"
      },
      "source": [
        "import tensorflow as tf\n",
        "def get_tts(DIM):\n",
        "    np.random.seed(10)\n",
        "\n",
        "    clr_labels =  [0 for i in range(len(clr_imgs))]\n",
        "    clm_labels =  [1 for i in range(len(clm_imgs))]\n",
        "\n",
        "    np.random.shuffle(clr_imgs)\n",
        "    np.random.shuffle(clm_imgs)\n",
        "\n",
        "    paths = clr_imgs + clm_imgs\n",
        "    labels = clr_labels + clm_labels\n",
        "    print(tf.one_hot(labels, 2))\n",
        "    # pistol_paths = [f'../Separated/FinalImages/Pistol/{i}' for i in os.listdir('../Separated/FinalImages/Pistol')] \n",
        "    # pistol_labels = [1 for i in range(len(pistol_paths))]\n",
        "    # rifle_paths = [f'../Separated/FinalImages/Rifle/{i}' for i in os.listdir('../Separated/FinalImages/Rifle')] \n",
        "    # rifle_labels = [2 for i in range(len(rifle_paths))]    \n",
        "    # neg_paths = [f'../Separated/FinalImages/NoWeapon/{i}' for i in os.listdir('../Separated/FinalImages/NoWeapon')]\n",
        "    # np.random.shuffle(neg_paths)\n",
        "    # neg_paths = neg_paths[:len(pistol_paths)- 500]\n",
        "    # neg_labels = [0 for i in range(len(neg_paths))]\n",
        "\n",
        "    # np.random.shuffle(pistol_paths)\n",
        "    # pistol_paths = pistol_paths[:len(rifle_paths)+150]\n",
        "    # neg_paths = neg_paths[:len(rifle_paths)+150]\n",
        "\n",
        "    # pistol_labels = [1 for i in range(len(pistol_paths))]\n",
        "    # rifle_labels = [2 for i in range(len(rifle_paths))]\n",
        "    # neg_labels = [0 for i in range(len(neg_paths))]\n",
        "    # paths = pistol_paths + rifle_paths + neg_paths\n",
        "    # labels = pistol_labels + rifle_labels + neg_labels\n",
        "    x_train, x_test, y_train, y_test = train_test_split(paths, labels, stratify = labels, train_size = .80, random_state = 10)\n",
        "\n",
        "    new_x_train = get_img_array(x_train, DIM)\n",
        "    new_x_test = get_img_array(x_test, DIM)\n",
        "    \n",
        "    print('Train Value Counts')\n",
        "    print(pd.Series(y_train).value_counts())\n",
        "    print('~~~~~~~~~~~~~~~~~~~~~~~~~~~~~~~~')\n",
        "    print('Test Value Counts')\n",
        "    print(pd.Series(y_test).value_counts())\n",
        "    print('~~~~~~~~~~~~~~~~~~~~~~~~~~~~~~~~')\n",
        "    print('X Train Shape')\n",
        "    print(new_x_train.shape)\n",
        "    print('~~~~~~~~~~~~~~~~~~~~~~~~~~~~~~~~')\n",
        "    print('X Test Shape')\n",
        "    print(new_x_test.shape)\n",
        "    print('~~~~~~~~~~~~~~~~~~~~~~~~~~~~~~~~')\n",
        "\n",
        "    y_train = np.array(y_train)\n",
        "    y_test = np.array(y_test)\n",
        "    y_test = to_categorical(y_test)\n",
        "    y_train = to_categorical(y_train)\n",
        "    tts = (new_x_train, new_x_test, y_train, y_test)\n",
        "    return tts\n",
        "\n",
        "x_train, x_test, y_train, y_test = get_tts(TARGET_SIZE1)"
      ],
      "id": "BsoBR743trqV",
      "execution_count": null,
      "outputs": [
        {
          "output_type": "stream",
          "name": "stdout",
          "text": [
            "tf.Tensor(\n",
            "[[1. 0.]\n",
            " [1. 0.]\n",
            " [1. 0.]\n",
            " ...\n",
            " [0. 1.]\n",
            " [0. 1.]\n",
            " [0. 1.]], shape=(542, 2), dtype=float32)\n"
          ]
        },
        {
          "output_type": "stream",
          "name": "stderr",
          "text": [
            "100%|██████████| 433/433 [04:59<00:00,  1.44it/s]\n",
            "100%|██████████| 109/109 [01:18<00:00,  1.39it/s]"
          ]
        },
        {
          "output_type": "stream",
          "name": "stdout",
          "text": [
            "Train Value Counts\n",
            "0    228\n",
            "1    205\n",
            "dtype: int64\n",
            "~~~~~~~~~~~~~~~~~~~~~~~~~~~~~~~~\n",
            "Test Value Counts\n",
            "0    57\n",
            "1    52\n",
            "dtype: int64\n",
            "~~~~~~~~~~~~~~~~~~~~~~~~~~~~~~~~\n",
            "X Train Shape\n",
            "(433, 300, 300, 3)\n",
            "~~~~~~~~~~~~~~~~~~~~~~~~~~~~~~~~\n",
            "X Test Shape\n",
            "(109, 300, 300, 3)\n",
            "~~~~~~~~~~~~~~~~~~~~~~~~~~~~~~~~\n"
          ]
        },
        {
          "output_type": "stream",
          "name": "stderr",
          "text": [
            "\n"
          ]
        }
      ]
    },
    {
      "cell_type": "code",
      "metadata": {
        "id": "Ce0y3X5bw9vu",
        "colab": {
          "base_uri": "https://localhost:8080/"
        },
        "outputId": "6acaa259-9db0-406d-fd65-a2f8c33482a8"
      },
      "source": [
        "x_test.shape"
      ],
      "id": "Ce0y3X5bw9vu",
      "execution_count": null,
      "outputs": [
        {
          "output_type": "execute_result",
          "data": {
            "text/plain": [
              "(109, 300, 300, 3)"
            ]
          },
          "metadata": {},
          "execution_count": 8
        }
      ]
    },
    {
      "cell_type": "code",
      "metadata": {
        "id": "OdYvYIIhzNwG",
        "colab": {
          "base_uri": "https://localhost:8080/"
        },
        "outputId": "cf1cac70-df28-4b07-f18e-ffd9382953c5"
      },
      "source": [
        "y_test.shape"
      ],
      "id": "OdYvYIIhzNwG",
      "execution_count": null,
      "outputs": [
        {
          "output_type": "execute_result",
          "data": {
            "text/plain": [
              "(109, 2)"
            ]
          },
          "metadata": {},
          "execution_count": 9
        }
      ]
    },
    {
      "cell_type": "code",
      "metadata": {
        "id": "_AKsxogVwh8m"
      },
      "source": [
        "import numpy as np \n",
        "from keras.models import Sequential\n",
        "from keras.layers import Conv2D, MaxPooling2D, BatchNormalization, AveragePooling2D, Dense, Dropout, Flatten \n",
        "from tensorflow.keras.optimizers import Adam\n",
        "from keras import regularizers\n",
        "from sklearn.preprocessing import LabelEncoder, OneHotEncoder\n",
        "import pandas as pd \n",
        "import matplotlib.pyplot as plt\n",
        "import os\n",
        "import pickle\n",
        "from keras.callbacks import ModelCheckpoint, EarlyStopping, ReduceLROnPlateau\n",
        "import cv2\n",
        "\n",
        "def get_conv_model(dim = (300,300, 3)):\n",
        "    '''This function will create and compile a CNN given the input dimension'''\n",
        "    inp_shape = dim\n",
        "    act = 'relu'\n",
        "    drop = .25\n",
        "    kernal_reg = regularizers.l1(.001)\n",
        "    optimizer = Adam(lr = .0001)    \n",
        "    model = Sequential() \n",
        "    model.add(Conv2D(64, kernel_size=(3,3),activation=act, input_shape = inp_shape, \n",
        "                     kernel_regularizer = kernal_reg,\n",
        "                     kernel_initializer = 'he_uniform',  padding = 'same', name = 'Input_Layer'))\n",
        "    model.add(MaxPooling2D(pool_size=(2, 2),  strides = (3,3)))\n",
        "    model.add(Conv2D(64, (3, 3), activation=act, kernel_regularizer = kernal_reg, \n",
        "                     kernel_initializer = 'he_uniform',padding = 'same'))\n",
        "    model.add(MaxPooling2D(pool_size=(2, 2), strides = (3,3))) \n",
        "    model.add(Conv2D(128, (3, 3), activation=act, kernel_regularizer = kernal_reg, \n",
        "                     kernel_initializer = 'he_uniform',padding = 'same'))\n",
        "    model.add(Conv2D(128, (3, 3), activation=act, kernel_regularizer = kernal_reg, \n",
        "                     kernel_initializer = 'he_uniform',padding = 'same'))\n",
        "    model.add(MaxPooling2D(pool_size=(2, 2), strides = (3,3)))  \n",
        "    model.add(Flatten())\n",
        "    model.add(Dense(128, activation='relu'))\n",
        "    model.add(Dense(64, activation='relu'))\n",
        "    model.add(Dense(32, activation='relu'))\n",
        "    model.add(Dropout(drop))\n",
        "    model.add(Dense(1, activation='sigmoid', name = 'Output_Layer'))\n",
        "    model.compile(loss = 'binary_crossentropy', optimizer = optimizer, metrics = ['accuracy'])\n",
        "    return model "
      ],
      "id": "_AKsxogVwh8m",
      "execution_count": null,
      "outputs": []
    },
    {
      "cell_type": "code",
      "metadata": {
        "id": "VUrCIuT2wote",
        "colab": {
          "base_uri": "https://localhost:8080/"
        },
        "outputId": "eeb1f366-8594-455a-eaff-746b168bab36"
      },
      "source": [
        "#prevents overfitting and saves models every time the validation loss improves\n",
        "early_stopping = EarlyStopping(monitor='val_loss', verbose = 1, patience=10, min_delta = .00075)\n",
        "model_checkpoint = ModelCheckpoint('ModelWeights.h5', verbose = 1, save_best_only=True,\n",
        "                                  monitor = 'val_loss')\n",
        "lr_plat = ReduceLROnPlateau(patience = 2, mode = 'min')\n",
        "epochs = 1000\n",
        "batch_size = 32\n",
        "model = get_conv_model()\n",
        "model.summary()\n"
      ],
      "id": "VUrCIuT2wote",
      "execution_count": null,
      "outputs": [
        {
          "output_type": "stream",
          "name": "stdout",
          "text": [
            "Model: \"sequential_7\"\n",
            "_________________________________________________________________\n",
            " Layer (type)                Output Shape              Param #   \n",
            "=================================================================\n",
            " Input_Layer (Conv2D)        (None, 300, 300, 64)      1792      \n",
            "                                                                 \n",
            " max_pooling2d_21 (MaxPoolin  (None, 100, 100, 64)     0         \n",
            " g2D)                                                            \n",
            "                                                                 \n",
            " conv2d_21 (Conv2D)          (None, 100, 100, 64)      36928     \n",
            "                                                                 \n",
            " max_pooling2d_22 (MaxPoolin  (None, 33, 33, 64)       0         \n",
            " g2D)                                                            \n",
            "                                                                 \n",
            " conv2d_22 (Conv2D)          (None, 33, 33, 128)       73856     \n",
            "                                                                 \n",
            " conv2d_23 (Conv2D)          (None, 33, 33, 128)       147584    \n",
            "                                                                 \n",
            " max_pooling2d_23 (MaxPoolin  (None, 11, 11, 128)      0         \n",
            " g2D)                                                            \n",
            "                                                                 \n",
            " flatten_7 (Flatten)         (None, 15488)             0         \n",
            "                                                                 \n",
            " dense_21 (Dense)            (None, 128)               1982592   \n",
            "                                                                 \n",
            " dense_22 (Dense)            (None, 64)                8256      \n",
            "                                                                 \n",
            " dense_23 (Dense)            (None, 32)                2080      \n",
            "                                                                 \n",
            " dropout_7 (Dropout)         (None, 32)                0         \n",
            "                                                                 \n",
            " Output_Layer (Dense)        (None, 1)                 33        \n",
            "                                                                 \n",
            "=================================================================\n",
            "Total params: 2,253,121\n",
            "Trainable params: 2,253,121\n",
            "Non-trainable params: 0\n",
            "_________________________________________________________________\n"
          ]
        },
        {
          "output_type": "stream",
          "name": "stderr",
          "text": [
            "/usr/local/lib/python3.7/dist-packages/keras/optimizer_v2/adam.py:105: UserWarning: The `lr` argument is deprecated, use `learning_rate` instead.\n",
            "  super(Adam, self).__init__(name, **kwargs)\n"
          ]
        }
      ]
    },
    {
      "cell_type": "code",
      "metadata": {
        "id": "W7g_-QJ56h7u",
        "colab": {
          "base_uri": "https://localhost:8080/",
          "height": 706
        },
        "outputId": "f0f99469-65d4-473f-b52e-29944a8dd77d"
      },
      "source": [
        "model_history = model.fit(x_train, y_train, batch_size = batch_size,\n",
        "            epochs = epochs, \n",
        "     callbacks = [early_stopping, model_checkpoint, lr_plat], validation_data = (x_test, y_test), verbose= 1)"
      ],
      "id": "W7g_-QJ56h7u",
      "execution_count": null,
      "outputs": [
        {
          "output_type": "stream",
          "name": "stdout",
          "text": [
            "Epoch 1/1000\n"
          ]
        },
        {
          "output_type": "error",
          "ename": "ValueError",
          "evalue": "ignored",
          "traceback": [
            "\u001b[0;31m---------------------------------------------------------------------------\u001b[0m",
            "\u001b[0;31mValueError\u001b[0m                                Traceback (most recent call last)",
            "\u001b[0;32m<ipython-input-70-e030c3f58d52>\u001b[0m in \u001b[0;36m<module>\u001b[0;34m()\u001b[0m\n\u001b[1;32m      1\u001b[0m model_history = model.fit(x_train, y_train, batch_size = batch_size,\n\u001b[1;32m      2\u001b[0m             \u001b[0mepochs\u001b[0m \u001b[0;34m=\u001b[0m \u001b[0mepochs\u001b[0m\u001b[0;34m,\u001b[0m\u001b[0;34m\u001b[0m\u001b[0;34m\u001b[0m\u001b[0m\n\u001b[0;32m----> 3\u001b[0;31m      callbacks = [early_stopping, model_checkpoint, lr_plat], validation_data = (x_test, y_test), verbose= 1)\n\u001b[0m",
            "\u001b[0;32m/usr/local/lib/python3.7/dist-packages/keras/utils/traceback_utils.py\u001b[0m in \u001b[0;36merror_handler\u001b[0;34m(*args, **kwargs)\u001b[0m\n\u001b[1;32m     65\u001b[0m     \u001b[0;32mexcept\u001b[0m \u001b[0mException\u001b[0m \u001b[0;32mas\u001b[0m \u001b[0me\u001b[0m\u001b[0;34m:\u001b[0m  \u001b[0;31m# pylint: disable=broad-except\u001b[0m\u001b[0;34m\u001b[0m\u001b[0;34m\u001b[0m\u001b[0m\n\u001b[1;32m     66\u001b[0m       \u001b[0mfiltered_tb\u001b[0m \u001b[0;34m=\u001b[0m \u001b[0m_process_traceback_frames\u001b[0m\u001b[0;34m(\u001b[0m\u001b[0me\u001b[0m\u001b[0;34m.\u001b[0m\u001b[0m__traceback__\u001b[0m\u001b[0;34m)\u001b[0m\u001b[0;34m\u001b[0m\u001b[0;34m\u001b[0m\u001b[0m\n\u001b[0;32m---> 67\u001b[0;31m       \u001b[0;32mraise\u001b[0m \u001b[0me\u001b[0m\u001b[0;34m.\u001b[0m\u001b[0mwith_traceback\u001b[0m\u001b[0;34m(\u001b[0m\u001b[0mfiltered_tb\u001b[0m\u001b[0;34m)\u001b[0m \u001b[0;32mfrom\u001b[0m \u001b[0;32mNone\u001b[0m\u001b[0;34m\u001b[0m\u001b[0;34m\u001b[0m\u001b[0m\n\u001b[0m\u001b[1;32m     68\u001b[0m     \u001b[0;32mfinally\u001b[0m\u001b[0;34m:\u001b[0m\u001b[0;34m\u001b[0m\u001b[0;34m\u001b[0m\u001b[0m\n\u001b[1;32m     69\u001b[0m       \u001b[0;32mdel\u001b[0m \u001b[0mfiltered_tb\u001b[0m\u001b[0;34m\u001b[0m\u001b[0;34m\u001b[0m\u001b[0m\n",
            "\u001b[0;32m/usr/local/lib/python3.7/dist-packages/tensorflow/python/framework/func_graph.py\u001b[0m in \u001b[0;36mautograph_handler\u001b[0;34m(*args, **kwargs)\u001b[0m\n\u001b[1;32m   1127\u001b[0m           \u001b[0;32mexcept\u001b[0m \u001b[0mException\u001b[0m \u001b[0;32mas\u001b[0m \u001b[0me\u001b[0m\u001b[0;34m:\u001b[0m  \u001b[0;31m# pylint:disable=broad-except\u001b[0m\u001b[0;34m\u001b[0m\u001b[0;34m\u001b[0m\u001b[0m\n\u001b[1;32m   1128\u001b[0m             \u001b[0;32mif\u001b[0m \u001b[0mhasattr\u001b[0m\u001b[0;34m(\u001b[0m\u001b[0me\u001b[0m\u001b[0;34m,\u001b[0m \u001b[0;34m\"ag_error_metadata\"\u001b[0m\u001b[0;34m)\u001b[0m\u001b[0;34m:\u001b[0m\u001b[0;34m\u001b[0m\u001b[0;34m\u001b[0m\u001b[0m\n\u001b[0;32m-> 1129\u001b[0;31m               \u001b[0;32mraise\u001b[0m \u001b[0me\u001b[0m\u001b[0;34m.\u001b[0m\u001b[0mag_error_metadata\u001b[0m\u001b[0;34m.\u001b[0m\u001b[0mto_exception\u001b[0m\u001b[0;34m(\u001b[0m\u001b[0me\u001b[0m\u001b[0;34m)\u001b[0m\u001b[0;34m\u001b[0m\u001b[0;34m\u001b[0m\u001b[0m\n\u001b[0m\u001b[1;32m   1130\u001b[0m             \u001b[0;32melse\u001b[0m\u001b[0;34m:\u001b[0m\u001b[0;34m\u001b[0m\u001b[0;34m\u001b[0m\u001b[0m\n\u001b[1;32m   1131\u001b[0m               \u001b[0;32mraise\u001b[0m\u001b[0;34m\u001b[0m\u001b[0;34m\u001b[0m\u001b[0m\n",
            "\u001b[0;31mValueError\u001b[0m: in user code:\n\n    File \"/usr/local/lib/python3.7/dist-packages/keras/engine/training.py\", line 878, in train_function  *\n        return step_function(self, iterator)\n    File \"/usr/local/lib/python3.7/dist-packages/keras/engine/training.py\", line 867, in step_function  **\n        outputs = model.distribute_strategy.run(run_step, args=(data,))\n    File \"/usr/local/lib/python3.7/dist-packages/keras/engine/training.py\", line 860, in run_step  **\n        outputs = model.train_step(data)\n    File \"/usr/local/lib/python3.7/dist-packages/keras/engine/training.py\", line 810, in train_step\n        y, y_pred, sample_weight, regularization_losses=self.losses)\n    File \"/usr/local/lib/python3.7/dist-packages/keras/engine/compile_utils.py\", line 201, in __call__\n        loss_value = loss_obj(y_t, y_p, sample_weight=sw)\n    File \"/usr/local/lib/python3.7/dist-packages/keras/losses.py\", line 141, in __call__\n        losses = call_fn(y_true, y_pred)\n    File \"/usr/local/lib/python3.7/dist-packages/keras/losses.py\", line 245, in call  **\n        return ag_fn(y_true, y_pred, **self._fn_kwargs)\n    File \"/usr/local/lib/python3.7/dist-packages/keras/losses.py\", line 1807, in binary_crossentropy\n        backend.binary_crossentropy(y_true, y_pred, from_logits=from_logits),\n    File \"/usr/local/lib/python3.7/dist-packages/keras/backend.py\", line 5158, in binary_crossentropy\n        return tf.nn.sigmoid_cross_entropy_with_logits(labels=target, logits=output)\n\n    ValueError: `logits` and `labels` must have the same shape, received ((None, 1) vs (None, 2)).\n"
          ]
        }
      ]
    },
    {
      "cell_type": "code",
      "metadata": {
        "id": "3qlPog7ozeLE",
        "colab": {
          "base_uri": "https://localhost:8080/"
        },
        "outputId": "48d7986b-0fdb-4a93-e902-464e2cc72a30"
      },
      "source": [
        "# Refered to https://machinelearningmastery.com/how-to-train-an-object-detection-model-with-keras/\n",
        "# Combined with https://towardsdatascience.com/object-localization-using-pre-trained-cnn-models-such-as-mobilenet-resnet-xception-f8a5f6a0228d\n",
        "import xml.etree.ElementTree as ET\n",
        "from collections import namedtuple\n",
        "\n",
        "Bounding_Box = namedtuple('Bounding_Box', 'xmin ymin xmax ymax')\n",
        "\n",
        "def get_bounding_box(path_to_xml_annotation):\n",
        "  tree = ET.parse(path_to_xml_annotation)\n",
        "  root = tree.getroot()\n",
        "  for box in root.findall('.//bndbox'):\n",
        "    xmin = int(box.find('xmin').text)\n",
        "    ymin = int(box.find('ymin').text)\n",
        "    xmax = int(box.find('xmax').text)\n",
        "    ymax = int(box.find('ymax').text)\n",
        "  return Bounding_Box(xmin, ymin, xmax, ymax)\n",
        "\n",
        "get_bounding_box(CLM_SUBDIR + 'bicho_mineiro0.xml')"
      ],
      "id": "3qlPog7ozeLE",
      "execution_count": null,
      "outputs": [
        {
          "output_type": "execute_result",
          "data": {
            "text/plain": [
              "Bounding_Box(xmin=739, ymin=1034, xmax=1252, ymax=1373)"
            ]
          },
          "metadata": {},
          "execution_count": 48
        }
      ]
    },
    {
      "cell_type": "code",
      "metadata": {
        "id": "0F_3wKPa0pKF"
      },
      "source": [
        "from PIL import Image, ImageOps\n",
        "import numpy as np\n",
        "\n",
        "def resize_image_with_bounds(path, sample_name, target_size, bounding_box=None):\n",
        "  path_to_image = path + sample_name + \".jpg\"\n",
        "  path_to_xml = path + sample_name + \".xml\"\n",
        "  image = Image.open(path_to_image)\n",
        "  width, height = image.size\n",
        "  w_pad = 0\n",
        "  h_pad = 0\n",
        "  bonus_h_pad = 0\n",
        "  bonus_w_pad = 0\n",
        "  #the following code helps determining where to pad or is it not necessary for the images we have.\n",
        "  # If the difference between the width and height was odd((height<width)case), we add one pixel on one side\n",
        "  # If the difference between the height and width was odd((height>width)case), then we add one pixel on one side.\n",
        "  #if both of these are not the case, then pads=0, no padding is needed, since the image is already a square itself.\n",
        "  bounding_box = get_bounding_box(path_to_xml)\n",
        "  if width > height:\n",
        "    pix_diff = (width - height)\n",
        "    h_pad = pix_diff // 2\n",
        "    bonus_h_pad = pix_diff % 2\n",
        "  elif height > width:\n",
        "    pix_diff = (height - width)\n",
        "    w_pad = pix_diff // 2\n",
        "    bonus_w_pad = pix_diff % 2\n",
        "  # When we pad the image to square, we need to adjust all the bounding box values by the amounts we added on the left or top.\n",
        "  #The \"bonus\" pads are always done on the bottom and right so we can ignore them in terms of the box.\n",
        "  image = ImageOps.expand(image, (w_pad, h_pad, w_pad+bonus_w_pad, h_pad+bonus_h_pad))\n",
        "  if bounding_box is not None:\n",
        "    new_xmin = bounding_box.xmin + w_pad\n",
        "    new_xmax = bounding_box.xmax + w_pad\n",
        "    new_ymin = bounding_box.ymin + h_pad\n",
        "    new_ymax = bounding_box.ymax + h_pad\n",
        "  # We need to also apply the scalr to the bounding box which we used in resizing the image\n",
        "  if target_size is not None:\n",
        "  # So, width and height have changed due to the padding resize.\n",
        "    width, height = image.size\n",
        "    image = image.resize(target_size)\n",
        "    width_scale = target_size[0] / width\n",
        "    height_scale = target_size[1] / height\n",
        "  if bounding_box is not None:\n",
        "    new_xmin = new_xmin * width_scale\n",
        "    new_xmax = new_xmax * width_scale\n",
        "    new_ymin = new_ymin * height_scale\n",
        "    new_ymax = new_ymax * height_scale\n",
        "  image_data = np.array(image.getdata()).reshape(image.size[0], image.size[1], 3)\n",
        "  # The image data is a 3D array such that 3 channels ,RGB of target_size.(RGB values are 0-255)\n",
        "  if bounding_box is None:\n",
        "    return image_data, None\n",
        "  return (image_data, Bounding_Box(new_xmin, new_ymin, new_xmax, new_ymax))"
      ],
      "id": "0F_3wKPa0pKF",
      "execution_count": null,
      "outputs": []
    },
    {
      "cell_type": "code",
      "metadata": {
        "id": "wBE_sM0jpVhF"
      },
      "source": [
        "def setting_sample_from_name(path, sample_name, target_size):\n",
        "  path_to_image = os.path.join(path, sample_name + '.jpg')\n",
        "  path_to_xml = os.path.join(path, sample_name + '.xml')\n",
        "  original_bounding_box = get_bounding_box(path_to_xml)\n",
        "  image_data, bounding_box = resize_image_with_bounds(path, sample_name, target_size, original_bounding_box)\n",
        "  return (image_data, bounding_box)"
      ],
      "id": "wBE_sM0jpVhF",
      "execution_count": null,
      "outputs": []
    },
    {
      "cell_type": "code",
      "metadata": {
        "id": "F6hCIOwtepeq",
        "colab": {
          "base_uri": "https://localhost:8080/"
        },
        "outputId": "393a440c-4cac-4578-cb3d-21b894906e44"
      },
      "source": [
        "processed_size1 = []\n",
        "\n",
        "# class 0 = CLR\n",
        "# class 1 = CLM\n",
        "\n",
        "for (img, xml) in zip(clr_imgs, clr_xmls):\n",
        "    image, bounding_box = setting_sample_from_name(CLR_SUBDIR, os.path.splitext(img)[0], TARGET_SIZE1)\n",
        "    img_tuple = (image, 0, bounding_box)\n",
        "    processed_size1.append(img_tuple)\n",
        "\n",
        "len(processed_size1)"
      ],
      "id": "F6hCIOwtepeq",
      "execution_count": null,
      "outputs": [
        {
          "output_type": "execute_result",
          "data": {
            "text/plain": [
              "285"
            ]
          },
          "metadata": {},
          "execution_count": 61
        }
      ]
    },
    {
      "cell_type": "code",
      "metadata": {
        "colab": {
          "base_uri": "https://localhost:8080/"
        },
        "id": "3vEAEP7q5s6y",
        "outputId": "5ce9a67c-587a-425c-cd54-67bda2ffbb95"
      },
      "source": [
        "for (img, xml) in zip(clm_imgs, clm_xmls):\n",
        "    image, bounding_box = setting_sample_from_name(CLM_SUBDIR, os.path.splitext(img)[0], TARGET_SIZE1)\n",
        "    img_tuple = (image, 1, bounding_box)\n",
        "    processed_size1.append(img_tuple)\n",
        "\n",
        "len(processed_size1)"
      ],
      "id": "3vEAEP7q5s6y",
      "execution_count": null,
      "outputs": [
        {
          "output_type": "execute_result",
          "data": {
            "text/plain": [
              "542"
            ]
          },
          "metadata": {},
          "execution_count": 62
        }
      ]
    },
    {
      "cell_type": "code",
      "metadata": {
        "id": "QWZ6YgmJ9KV6"
      },
      "source": [
        "from tensorflow.keras.applications.mobilenet_v2 import MobileNetV2, preprocess_input\n",
        "from tensorflow.keras.applications.resnet50 import ResNet50, preprocess_input\n",
        "from tensorflow.keras.applications.xception import Xception, preprocess_input\n",
        "from tensorflow.keras import backend as K\n",
        "from tensorflow.keras.layers import Dense, GlobalAveragePooling2D, Dropout, Flatten\n",
        "from tensorflow.keras.models import Model, Sequential\n",
        "from tensorflow.keras.preprocessing.image import ImageDataGenerator\n",
        "from tensorflow.keras.utils import to_categorical\n",
        "\n",
        "x_train = []\n",
        "y_class_train = []\n",
        "y_box_train = []\n",
        "x_validation = []\n",
        "y_class_validation = []\n",
        "y_box_validation = []\n",
        "validation_split = 0.2\n",
        "for image, species, bounding_box in processed_size1:\n",
        "  if np.random.random() > validation_split:\n",
        "    x_train = np.append(x_train, preprocess_input(image))\n",
        "    y_class_train = np.append(y_class_train, species)\n",
        "    y_box_train = np.append(y_box_train, bounding_box)\n",
        "  else:\n",
        "    x_validation = np.append(x_validation, preprocess_input(image))\n",
        "    y_class_validation = np.append(y_class_validation, species)\n",
        "    y_box_validation = np.append(y_box_validation, bounding_box)\n",
        "  x_train = np.array(x_train)\n",
        "  y_class_train = np.array(y_class_train)\n",
        "  y_box_train = np.array(y_box_train)\n",
        "  x_validation = np.array(x_validation)\n",
        "  y_class_validation = np.array(y_class_validation)\n",
        "  y_box_validation = np.array(y_box_validation)"
      ],
      "id": "QWZ6YgmJ9KV6",
      "execution_count": null,
      "outputs": []
    },
    {
      "cell_type": "code",
      "metadata": {
        "id": "va5njUFAfW73",
        "colab": {
          "base_uri": "https://localhost:8080/"
        },
        "outputId": "48302144-af93-4466-9ce2-3549c4002ac3"
      },
      "source": [
        "print(type(x_train))\n",
        "print(type(y_class_train))\n",
        "print(type(y_box_train))\n",
        "print(type(x_validation))\n",
        "print(type(y_class_validation))\n",
        "print(type(y_box_validation))"
      ],
      "id": "va5njUFAfW73",
      "execution_count": null,
      "outputs": [
        {
          "output_type": "stream",
          "name": "stdout",
          "text": [
            "<class 'numpy.ndarray'>\n",
            "<class 'numpy.ndarray'>\n",
            "<class 'numpy.ndarray'>\n",
            "<class 'numpy.ndarray'>\n",
            "<class 'numpy.ndarray'>\n",
            "<class 'numpy.ndarray'>\n"
          ]
        }
      ]
    },
    {
      "cell_type": "code",
      "metadata": {
        "colab": {
          "base_uri": "https://localhost:8080/"
        },
        "id": "NklKYcwmCzXK",
        "outputId": "0785c9a0-617f-4448-a077-0a24136ad1d6"
      },
      "source": [
        "print(x_train.shape)\n",
        "print(y_class_train.shape)\n",
        "print(y_box_train.shape)\n",
        "print(x_validation.shape)\n",
        "print(y_class_validation.shape)\n",
        "print(y_box_validation.shape)\n"
      ],
      "id": "NklKYcwmCzXK",
      "execution_count": null,
      "outputs": [
        {
          "output_type": "stream",
          "name": "stdout",
          "text": [
            "(119070000,)\n",
            "(441,)\n",
            "(1764,)\n",
            "(27270000,)\n",
            "(101,)\n",
            "(404,)\n"
          ]
        }
      ]
    },
    {
      "cell_type": "code",
      "metadata": {
        "colab": {
          "base_uri": "https://localhost:8080/"
        },
        "id": "lhjTIjwR9U4J",
        "outputId": "27fc2c0e-0734-41e4-c9a6-e75b534fec84"
      },
      "source": [
        "base_model1 = ResNet50(weights='imagenet', include_top=False, input_shape=(TARGET_SIZE1[0], TARGET_SIZE1[1], 3))\n",
        "chopped_resnet1 = Model(inputs=[base_model1.input], outputs=[base_model1.layers[90].output])\n",
        "classification_output1 = GlobalAveragePooling2D()(chopped_resnet1.output)\n",
        "classification_output1 = Dense(units=1, activation='sigmoid')(classification_output1)\n",
        "localization_output1 = Flatten()(chopped_resnet1.output)\n",
        "localization_output1 = Dense(units=4, activation='relu')(localization_output1)\n",
        "model1 = Model(inputs=[chopped_resnet1.input], outputs=[classification_output1, localization_output1])\n",
        "model1.summary()"
      ],
      "id": "lhjTIjwR9U4J",
      "execution_count": null,
      "outputs": [
        {
          "output_type": "stream",
          "name": "stdout",
          "text": [
            "Model: \"model_5\"\n",
            "__________________________________________________________________________________________________\n",
            " Layer (type)                   Output Shape         Param #     Connected to                     \n",
            "==================================================================================================\n",
            " input_3 (InputLayer)           [(None, 300, 300, 3  0           []                               \n",
            "                                )]                                                                \n",
            "                                                                                                  \n",
            " conv1_pad (ZeroPadding2D)      (None, 306, 306, 3)  0           ['input_3[0][0]']                \n",
            "                                                                                                  \n",
            " conv1_conv (Conv2D)            (None, 150, 150, 64  9472        ['conv1_pad[0][0]']              \n",
            "                                )                                                                 \n",
            "                                                                                                  \n",
            " conv1_bn (BatchNormalization)  (None, 150, 150, 64  256         ['conv1_conv[0][0]']             \n",
            "                                )                                                                 \n",
            "                                                                                                  \n",
            " conv1_relu (Activation)        (None, 150, 150, 64  0           ['conv1_bn[0][0]']               \n",
            "                                )                                                                 \n",
            "                                                                                                  \n",
            " pool1_pad (ZeroPadding2D)      (None, 152, 152, 64  0           ['conv1_relu[0][0]']             \n",
            "                                )                                                                 \n",
            "                                                                                                  \n",
            " pool1_pool (MaxPooling2D)      (None, 75, 75, 64)   0           ['pool1_pad[0][0]']              \n",
            "                                                                                                  \n",
            " conv2_block1_1_conv (Conv2D)   (None, 75, 75, 64)   4160        ['pool1_pool[0][0]']             \n",
            "                                                                                                  \n",
            " conv2_block1_1_bn (BatchNormal  (None, 75, 75, 64)  256         ['conv2_block1_1_conv[0][0]']    \n",
            " ization)                                                                                         \n",
            "                                                                                                  \n",
            " conv2_block1_1_relu (Activatio  (None, 75, 75, 64)  0           ['conv2_block1_1_bn[0][0]']      \n",
            " n)                                                                                               \n",
            "                                                                                                  \n",
            " conv2_block1_2_conv (Conv2D)   (None, 75, 75, 64)   36928       ['conv2_block1_1_relu[0][0]']    \n",
            "                                                                                                  \n",
            " conv2_block1_2_bn (BatchNormal  (None, 75, 75, 64)  256         ['conv2_block1_2_conv[0][0]']    \n",
            " ization)                                                                                         \n",
            "                                                                                                  \n",
            " conv2_block1_2_relu (Activatio  (None, 75, 75, 64)  0           ['conv2_block1_2_bn[0][0]']      \n",
            " n)                                                                                               \n",
            "                                                                                                  \n",
            " conv2_block1_0_conv (Conv2D)   (None, 75, 75, 256)  16640       ['pool1_pool[0][0]']             \n",
            "                                                                                                  \n",
            " conv2_block1_3_conv (Conv2D)   (None, 75, 75, 256)  16640       ['conv2_block1_2_relu[0][0]']    \n",
            "                                                                                                  \n",
            " conv2_block1_0_bn (BatchNormal  (None, 75, 75, 256)  1024       ['conv2_block1_0_conv[0][0]']    \n",
            " ization)                                                                                         \n",
            "                                                                                                  \n",
            " conv2_block1_3_bn (BatchNormal  (None, 75, 75, 256)  1024       ['conv2_block1_3_conv[0][0]']    \n",
            " ization)                                                                                         \n",
            "                                                                                                  \n",
            " conv2_block1_add (Add)         (None, 75, 75, 256)  0           ['conv2_block1_0_bn[0][0]',      \n",
            "                                                                  'conv2_block1_3_bn[0][0]']      \n",
            "                                                                                                  \n",
            " conv2_block1_out (Activation)  (None, 75, 75, 256)  0           ['conv2_block1_add[0][0]']       \n",
            "                                                                                                  \n",
            " conv2_block2_1_conv (Conv2D)   (None, 75, 75, 64)   16448       ['conv2_block1_out[0][0]']       \n",
            "                                                                                                  \n",
            " conv2_block2_1_bn (BatchNormal  (None, 75, 75, 64)  256         ['conv2_block2_1_conv[0][0]']    \n",
            " ization)                                                                                         \n",
            "                                                                                                  \n",
            " conv2_block2_1_relu (Activatio  (None, 75, 75, 64)  0           ['conv2_block2_1_bn[0][0]']      \n",
            " n)                                                                                               \n",
            "                                                                                                  \n",
            " conv2_block2_2_conv (Conv2D)   (None, 75, 75, 64)   36928       ['conv2_block2_1_relu[0][0]']    \n",
            "                                                                                                  \n",
            " conv2_block2_2_bn (BatchNormal  (None, 75, 75, 64)  256         ['conv2_block2_2_conv[0][0]']    \n",
            " ization)                                                                                         \n",
            "                                                                                                  \n",
            " conv2_block2_2_relu (Activatio  (None, 75, 75, 64)  0           ['conv2_block2_2_bn[0][0]']      \n",
            " n)                                                                                               \n",
            "                                                                                                  \n",
            " conv2_block2_3_conv (Conv2D)   (None, 75, 75, 256)  16640       ['conv2_block2_2_relu[0][0]']    \n",
            "                                                                                                  \n",
            " conv2_block2_3_bn (BatchNormal  (None, 75, 75, 256)  1024       ['conv2_block2_3_conv[0][0]']    \n",
            " ization)                                                                                         \n",
            "                                                                                                  \n",
            " conv2_block2_add (Add)         (None, 75, 75, 256)  0           ['conv2_block1_out[0][0]',       \n",
            "                                                                  'conv2_block2_3_bn[0][0]']      \n",
            "                                                                                                  \n",
            " conv2_block2_out (Activation)  (None, 75, 75, 256)  0           ['conv2_block2_add[0][0]']       \n",
            "                                                                                                  \n",
            " conv2_block3_1_conv (Conv2D)   (None, 75, 75, 64)   16448       ['conv2_block2_out[0][0]']       \n",
            "                                                                                                  \n",
            " conv2_block3_1_bn (BatchNormal  (None, 75, 75, 64)  256         ['conv2_block3_1_conv[0][0]']    \n",
            " ization)                                                                                         \n",
            "                                                                                                  \n",
            " conv2_block3_1_relu (Activatio  (None, 75, 75, 64)  0           ['conv2_block3_1_bn[0][0]']      \n",
            " n)                                                                                               \n",
            "                                                                                                  \n",
            " conv2_block3_2_conv (Conv2D)   (None, 75, 75, 64)   36928       ['conv2_block3_1_relu[0][0]']    \n",
            "                                                                                                  \n",
            " conv2_block3_2_bn (BatchNormal  (None, 75, 75, 64)  256         ['conv2_block3_2_conv[0][0]']    \n",
            " ization)                                                                                         \n",
            "                                                                                                  \n",
            " conv2_block3_2_relu (Activatio  (None, 75, 75, 64)  0           ['conv2_block3_2_bn[0][0]']      \n",
            " n)                                                                                               \n",
            "                                                                                                  \n",
            " conv2_block3_3_conv (Conv2D)   (None, 75, 75, 256)  16640       ['conv2_block3_2_relu[0][0]']    \n",
            "                                                                                                  \n",
            " conv2_block3_3_bn (BatchNormal  (None, 75, 75, 256)  1024       ['conv2_block3_3_conv[0][0]']    \n",
            " ization)                                                                                         \n",
            "                                                                                                  \n",
            " conv2_block3_add (Add)         (None, 75, 75, 256)  0           ['conv2_block2_out[0][0]',       \n",
            "                                                                  'conv2_block3_3_bn[0][0]']      \n",
            "                                                                                                  \n",
            " conv2_block3_out (Activation)  (None, 75, 75, 256)  0           ['conv2_block3_add[0][0]']       \n",
            "                                                                                                  \n",
            " conv3_block1_1_conv (Conv2D)   (None, 38, 38, 128)  32896       ['conv2_block3_out[0][0]']       \n",
            "                                                                                                  \n",
            " conv3_block1_1_bn (BatchNormal  (None, 38, 38, 128)  512        ['conv3_block1_1_conv[0][0]']    \n",
            " ization)                                                                                         \n",
            "                                                                                                  \n",
            " conv3_block1_1_relu (Activatio  (None, 38, 38, 128)  0          ['conv3_block1_1_bn[0][0]']      \n",
            " n)                                                                                               \n",
            "                                                                                                  \n",
            " conv3_block1_2_conv (Conv2D)   (None, 38, 38, 128)  147584      ['conv3_block1_1_relu[0][0]']    \n",
            "                                                                                                  \n",
            " conv3_block1_2_bn (BatchNormal  (None, 38, 38, 128)  512        ['conv3_block1_2_conv[0][0]']    \n",
            " ization)                                                                                         \n",
            "                                                                                                  \n",
            " conv3_block1_2_relu (Activatio  (None, 38, 38, 128)  0          ['conv3_block1_2_bn[0][0]']      \n",
            " n)                                                                                               \n",
            "                                                                                                  \n",
            " conv3_block1_0_conv (Conv2D)   (None, 38, 38, 512)  131584      ['conv2_block3_out[0][0]']       \n",
            "                                                                                                  \n",
            " conv3_block1_3_conv (Conv2D)   (None, 38, 38, 512)  66048       ['conv3_block1_2_relu[0][0]']    \n",
            "                                                                                                  \n",
            " conv3_block1_0_bn (BatchNormal  (None, 38, 38, 512)  2048       ['conv3_block1_0_conv[0][0]']    \n",
            " ization)                                                                                         \n",
            "                                                                                                  \n",
            " conv3_block1_3_bn (BatchNormal  (None, 38, 38, 512)  2048       ['conv3_block1_3_conv[0][0]']    \n",
            " ization)                                                                                         \n",
            "                                                                                                  \n",
            " conv3_block1_add (Add)         (None, 38, 38, 512)  0           ['conv3_block1_0_bn[0][0]',      \n",
            "                                                                  'conv3_block1_3_bn[0][0]']      \n",
            "                                                                                                  \n",
            " conv3_block1_out (Activation)  (None, 38, 38, 512)  0           ['conv3_block1_add[0][0]']       \n",
            "                                                                                                  \n",
            " conv3_block2_1_conv (Conv2D)   (None, 38, 38, 128)  65664       ['conv3_block1_out[0][0]']       \n",
            "                                                                                                  \n",
            " conv3_block2_1_bn (BatchNormal  (None, 38, 38, 128)  512        ['conv3_block2_1_conv[0][0]']    \n",
            " ization)                                                                                         \n",
            "                                                                                                  \n",
            " conv3_block2_1_relu (Activatio  (None, 38, 38, 128)  0          ['conv3_block2_1_bn[0][0]']      \n",
            " n)                                                                                               \n",
            "                                                                                                  \n",
            " conv3_block2_2_conv (Conv2D)   (None, 38, 38, 128)  147584      ['conv3_block2_1_relu[0][0]']    \n",
            "                                                                                                  \n",
            " conv3_block2_2_bn (BatchNormal  (None, 38, 38, 128)  512        ['conv3_block2_2_conv[0][0]']    \n",
            " ization)                                                                                         \n",
            "                                                                                                  \n",
            " conv3_block2_2_relu (Activatio  (None, 38, 38, 128)  0          ['conv3_block2_2_bn[0][0]']      \n",
            " n)                                                                                               \n",
            "                                                                                                  \n",
            " conv3_block2_3_conv (Conv2D)   (None, 38, 38, 512)  66048       ['conv3_block2_2_relu[0][0]']    \n",
            "                                                                                                  \n",
            " conv3_block2_3_bn (BatchNormal  (None, 38, 38, 512)  2048       ['conv3_block2_3_conv[0][0]']    \n",
            " ization)                                                                                         \n",
            "                                                                                                  \n",
            " conv3_block2_add (Add)         (None, 38, 38, 512)  0           ['conv3_block1_out[0][0]',       \n",
            "                                                                  'conv3_block2_3_bn[0][0]']      \n",
            "                                                                                                  \n",
            " conv3_block2_out (Activation)  (None, 38, 38, 512)  0           ['conv3_block2_add[0][0]']       \n",
            "                                                                                                  \n",
            " conv3_block3_1_conv (Conv2D)   (None, 38, 38, 128)  65664       ['conv3_block2_out[0][0]']       \n",
            "                                                                                                  \n",
            " conv3_block3_1_bn (BatchNormal  (None, 38, 38, 128)  512        ['conv3_block3_1_conv[0][0]']    \n",
            " ization)                                                                                         \n",
            "                                                                                                  \n",
            " conv3_block3_1_relu (Activatio  (None, 38, 38, 128)  0          ['conv3_block3_1_bn[0][0]']      \n",
            " n)                                                                                               \n",
            "                                                                                                  \n",
            " conv3_block3_2_conv (Conv2D)   (None, 38, 38, 128)  147584      ['conv3_block3_1_relu[0][0]']    \n",
            "                                                                                                  \n",
            " conv3_block3_2_bn (BatchNormal  (None, 38, 38, 128)  512        ['conv3_block3_2_conv[0][0]']    \n",
            " ization)                                                                                         \n",
            "                                                                                                  \n",
            " conv3_block3_2_relu (Activatio  (None, 38, 38, 128)  0          ['conv3_block3_2_bn[0][0]']      \n",
            " n)                                                                                               \n",
            "                                                                                                  \n",
            " conv3_block3_3_conv (Conv2D)   (None, 38, 38, 512)  66048       ['conv3_block3_2_relu[0][0]']    \n",
            "                                                                                                  \n",
            " conv3_block3_3_bn (BatchNormal  (None, 38, 38, 512)  2048       ['conv3_block3_3_conv[0][0]']    \n",
            " ization)                                                                                         \n",
            "                                                                                                  \n",
            " conv3_block3_add (Add)         (None, 38, 38, 512)  0           ['conv3_block2_out[0][0]',       \n",
            "                                                                  'conv3_block3_3_bn[0][0]']      \n",
            "                                                                                                  \n",
            " conv3_block3_out (Activation)  (None, 38, 38, 512)  0           ['conv3_block3_add[0][0]']       \n",
            "                                                                                                  \n",
            " conv3_block4_1_conv (Conv2D)   (None, 38, 38, 128)  65664       ['conv3_block3_out[0][0]']       \n",
            "                                                                                                  \n",
            " conv3_block4_1_bn (BatchNormal  (None, 38, 38, 128)  512        ['conv3_block4_1_conv[0][0]']    \n",
            " ization)                                                                                         \n",
            "                                                                                                  \n",
            " conv3_block4_1_relu (Activatio  (None, 38, 38, 128)  0          ['conv3_block4_1_bn[0][0]']      \n",
            " n)                                                                                               \n",
            "                                                                                                  \n",
            " conv3_block4_2_conv (Conv2D)   (None, 38, 38, 128)  147584      ['conv3_block4_1_relu[0][0]']    \n",
            "                                                                                                  \n",
            " conv3_block4_2_bn (BatchNormal  (None, 38, 38, 128)  512        ['conv3_block4_2_conv[0][0]']    \n",
            " ization)                                                                                         \n",
            "                                                                                                  \n",
            " conv3_block4_2_relu (Activatio  (None, 38, 38, 128)  0          ['conv3_block4_2_bn[0][0]']      \n",
            " n)                                                                                               \n",
            "                                                                                                  \n",
            " conv3_block4_3_conv (Conv2D)   (None, 38, 38, 512)  66048       ['conv3_block4_2_relu[0][0]']    \n",
            "                                                                                                  \n",
            " conv3_block4_3_bn (BatchNormal  (None, 38, 38, 512)  2048       ['conv3_block4_3_conv[0][0]']    \n",
            " ization)                                                                                         \n",
            "                                                                                                  \n",
            " conv3_block4_add (Add)         (None, 38, 38, 512)  0           ['conv3_block3_out[0][0]',       \n",
            "                                                                  'conv3_block4_3_bn[0][0]']      \n",
            "                                                                                                  \n",
            " conv3_block4_out (Activation)  (None, 38, 38, 512)  0           ['conv3_block4_add[0][0]']       \n",
            "                                                                                                  \n",
            " conv4_block1_1_conv (Conv2D)   (None, 19, 19, 256)  131328      ['conv3_block4_out[0][0]']       \n",
            "                                                                                                  \n",
            " conv4_block1_1_bn (BatchNormal  (None, 19, 19, 256)  1024       ['conv4_block1_1_conv[0][0]']    \n",
            " ization)                                                                                         \n",
            "                                                                                                  \n",
            " conv4_block1_1_relu (Activatio  (None, 19, 19, 256)  0          ['conv4_block1_1_bn[0][0]']      \n",
            " n)                                                                                               \n",
            "                                                                                                  \n",
            " conv4_block1_2_conv (Conv2D)   (None, 19, 19, 256)  590080      ['conv4_block1_1_relu[0][0]']    \n",
            "                                                                                                  \n",
            " conv4_block1_2_bn (BatchNormal  (None, 19, 19, 256)  1024       ['conv4_block1_2_conv[0][0]']    \n",
            " ization)                                                                                         \n",
            "                                                                                                  \n",
            " conv4_block1_2_relu (Activatio  (None, 19, 19, 256)  0          ['conv4_block1_2_bn[0][0]']      \n",
            " n)                                                                                               \n",
            "                                                                                                  \n",
            " conv4_block1_3_conv (Conv2D)   (None, 19, 19, 1024  263168      ['conv4_block1_2_relu[0][0]']    \n",
            "                                )                                                                 \n",
            "                                                                                                  \n",
            " conv4_block1_3_bn (BatchNormal  (None, 19, 19, 1024  4096       ['conv4_block1_3_conv[0][0]']    \n",
            " ization)                       )                                                                 \n",
            "                                                                                                  \n",
            " global_average_pooling2d_2 (Gl  (None, 1024)        0           ['conv4_block1_3_bn[0][0]']      \n",
            " obalAveragePooling2D)                                                                            \n",
            "                                                                                                  \n",
            " flatten_2 (Flatten)            (None, 369664)       0           ['conv4_block1_3_bn[0][0]']      \n",
            "                                                                                                  \n",
            " dense_4 (Dense)                (None, 1)            1025        ['global_average_pooling2d_2[0][0\n",
            "                                                                 ]']                              \n",
            "                                                                                                  \n",
            " dense_5 (Dense)                (None, 4)            1478660     ['flatten_2[0][0]']              \n",
            "                                                                                                  \n",
            "==================================================================================================\n",
            "Total params: 3,930,501\n",
            "Trainable params: 3,917,317\n",
            "Non-trainable params: 13,184\n",
            "__________________________________________________________________________________________________\n"
          ]
        }
      ]
    },
    {
      "cell_type": "code",
      "metadata": {
        "colab": {
          "base_uri": "https://localhost:8080/",
          "height": 404
        },
        "id": "_wf8l3sV-t1K",
        "outputId": "bb0cf66c-1e21-4912-970f-958370310623"
      },
      "source": [
        "model1.compile(optimizer='adam', metrics=['accuracy'],loss=['binary_crossentropy', 'mse'],loss_weights=[800, 1]  )\n",
        "#lets run it through 10 epochs\n",
        "history2=model1.fit(x_train, [y_class_train, y_box_train], validation_data=(x_validation, [y_class_validation, y_box_validation]),epochs=10,verbose=True)\n",
        "history2"
      ],
      "id": "_wf8l3sV-t1K",
      "execution_count": null,
      "outputs": [
        {
          "output_type": "error",
          "ename": "ValueError",
          "evalue": "ignored",
          "traceback": [
            "\u001b[0;31m---------------------------------------------------------------------------\u001b[0m",
            "\u001b[0;31mValueError\u001b[0m                                Traceback (most recent call last)",
            "\u001b[0;32m<ipython-input-66-084636df1d1d>\u001b[0m in \u001b[0;36m<module>\u001b[0;34m()\u001b[0m\n\u001b[1;32m      1\u001b[0m \u001b[0mmodel1\u001b[0m\u001b[0;34m.\u001b[0m\u001b[0mcompile\u001b[0m\u001b[0;34m(\u001b[0m\u001b[0moptimizer\u001b[0m\u001b[0;34m=\u001b[0m\u001b[0;34m'adam'\u001b[0m\u001b[0;34m,\u001b[0m \u001b[0mmetrics\u001b[0m\u001b[0;34m=\u001b[0m\u001b[0;34m[\u001b[0m\u001b[0;34m'accuracy'\u001b[0m\u001b[0;34m]\u001b[0m\u001b[0;34m,\u001b[0m\u001b[0mloss\u001b[0m\u001b[0;34m=\u001b[0m\u001b[0;34m[\u001b[0m\u001b[0;34m'binary_crossentropy'\u001b[0m\u001b[0;34m,\u001b[0m \u001b[0;34m'mse'\u001b[0m\u001b[0;34m]\u001b[0m\u001b[0;34m,\u001b[0m\u001b[0mloss_weights\u001b[0m\u001b[0;34m=\u001b[0m\u001b[0;34m[\u001b[0m\u001b[0;36m800\u001b[0m\u001b[0;34m,\u001b[0m \u001b[0;36m1\u001b[0m\u001b[0;34m]\u001b[0m  \u001b[0;34m)\u001b[0m\u001b[0;34m\u001b[0m\u001b[0;34m\u001b[0m\u001b[0m\n\u001b[1;32m      2\u001b[0m \u001b[0;31m#lets run it through 10 epochs\u001b[0m\u001b[0;34m\u001b[0m\u001b[0;34m\u001b[0m\u001b[0;34m\u001b[0m\u001b[0m\n\u001b[0;32m----> 3\u001b[0;31m \u001b[0mhistory2\u001b[0m\u001b[0;34m=\u001b[0m\u001b[0mmodel1\u001b[0m\u001b[0;34m.\u001b[0m\u001b[0mfit\u001b[0m\u001b[0;34m(\u001b[0m\u001b[0mx_train\u001b[0m\u001b[0;34m,\u001b[0m \u001b[0;34m[\u001b[0m\u001b[0my_class_train\u001b[0m\u001b[0;34m,\u001b[0m \u001b[0my_box_train\u001b[0m\u001b[0;34m]\u001b[0m\u001b[0;34m,\u001b[0m \u001b[0mvalidation_data\u001b[0m\u001b[0;34m=\u001b[0m\u001b[0;34m(\u001b[0m\u001b[0mx_validation\u001b[0m\u001b[0;34m,\u001b[0m \u001b[0;34m[\u001b[0m\u001b[0my_class_validation\u001b[0m\u001b[0;34m,\u001b[0m \u001b[0my_box_validation\u001b[0m\u001b[0;34m]\u001b[0m\u001b[0;34m)\u001b[0m\u001b[0;34m,\u001b[0m\u001b[0mepochs\u001b[0m\u001b[0;34m=\u001b[0m\u001b[0;36m10\u001b[0m\u001b[0;34m,\u001b[0m\u001b[0mverbose\u001b[0m\u001b[0;34m=\u001b[0m\u001b[0;32mTrue\u001b[0m\u001b[0;34m)\u001b[0m\u001b[0;34m\u001b[0m\u001b[0;34m\u001b[0m\u001b[0m\n\u001b[0m\u001b[1;32m      4\u001b[0m \u001b[0mhistory2\u001b[0m\u001b[0;34m\u001b[0m\u001b[0;34m\u001b[0m\u001b[0m\n",
            "\u001b[0;32m/usr/local/lib/python3.7/dist-packages/keras/utils/traceback_utils.py\u001b[0m in \u001b[0;36merror_handler\u001b[0;34m(*args, **kwargs)\u001b[0m\n\u001b[1;32m     65\u001b[0m     \u001b[0;32mexcept\u001b[0m \u001b[0mException\u001b[0m \u001b[0;32mas\u001b[0m \u001b[0me\u001b[0m\u001b[0;34m:\u001b[0m  \u001b[0;31m# pylint: disable=broad-except\u001b[0m\u001b[0;34m\u001b[0m\u001b[0;34m\u001b[0m\u001b[0m\n\u001b[1;32m     66\u001b[0m       \u001b[0mfiltered_tb\u001b[0m \u001b[0;34m=\u001b[0m \u001b[0m_process_traceback_frames\u001b[0m\u001b[0;34m(\u001b[0m\u001b[0me\u001b[0m\u001b[0;34m.\u001b[0m\u001b[0m__traceback__\u001b[0m\u001b[0;34m)\u001b[0m\u001b[0;34m\u001b[0m\u001b[0;34m\u001b[0m\u001b[0m\n\u001b[0;32m---> 67\u001b[0;31m       \u001b[0;32mraise\u001b[0m \u001b[0me\u001b[0m\u001b[0;34m.\u001b[0m\u001b[0mwith_traceback\u001b[0m\u001b[0;34m(\u001b[0m\u001b[0mfiltered_tb\u001b[0m\u001b[0;34m)\u001b[0m \u001b[0;32mfrom\u001b[0m \u001b[0;32mNone\u001b[0m\u001b[0;34m\u001b[0m\u001b[0;34m\u001b[0m\u001b[0m\n\u001b[0m\u001b[1;32m     68\u001b[0m     \u001b[0;32mfinally\u001b[0m\u001b[0;34m:\u001b[0m\u001b[0;34m\u001b[0m\u001b[0;34m\u001b[0m\u001b[0m\n\u001b[1;32m     69\u001b[0m       \u001b[0;32mdel\u001b[0m \u001b[0mfiltered_tb\u001b[0m\u001b[0;34m\u001b[0m\u001b[0;34m\u001b[0m\u001b[0m\n",
            "\u001b[0;32m/usr/local/lib/python3.7/dist-packages/keras/engine/data_adapter.py\u001b[0m in \u001b[0;36m_check_data_cardinality\u001b[0;34m(data)\u001b[0m\n\u001b[1;32m   1655\u001b[0m                            for i in tf.nest.flatten(single_data)))\n\u001b[1;32m   1656\u001b[0m     \u001b[0mmsg\u001b[0m \u001b[0;34m+=\u001b[0m \u001b[0;34m\"Make sure all arrays contain the same number of samples.\"\u001b[0m\u001b[0;34m\u001b[0m\u001b[0;34m\u001b[0m\u001b[0m\n\u001b[0;32m-> 1657\u001b[0;31m     \u001b[0;32mraise\u001b[0m \u001b[0mValueError\u001b[0m\u001b[0;34m(\u001b[0m\u001b[0mmsg\u001b[0m\u001b[0;34m)\u001b[0m\u001b[0;34m\u001b[0m\u001b[0;34m\u001b[0m\u001b[0m\n\u001b[0m\u001b[1;32m   1658\u001b[0m \u001b[0;34m\u001b[0m\u001b[0m\n\u001b[1;32m   1659\u001b[0m \u001b[0;34m\u001b[0m\u001b[0m\n",
            "\u001b[0;31mValueError\u001b[0m: Data cardinality is ambiguous:\n  x sizes: 119070000\n  y sizes: 441, 1764\nMake sure all arrays contain the same number of samples."
          ]
        }
      ]
    },
    {
      "cell_type": "code",
      "metadata": {
        "id": "dBUd4wLO-zXK"
      },
      "source": [
        "def plot_training_history(history, model):\n",
        "plt.plot(history.history['dense_3_accuracy'])\n",
        "plt.plot(history.history['val_dense_3_accuracy'])\n",
        "plt.ylabel('accuracy')\n",
        "plt.xlabel('epoch')\n",
        "plt.legend(['training', 'validation'], loc='best')\n",
        "plt.show()\n",
        "plt.plot(history.history['dense_3_loss'])\n",
        "plt.plot(history.history['val_dense_3_loss'])\n",
        "plt.title('model loss')\n",
        "plt.ylabel('loss')\n",
        "plt.xlabel('epoch')\n",
        "plt.legend(['training', 'validation'], loc='best')\n",
        "plt.show()\n",
        "plot_training_history(history2, model1)"
      ],
      "id": "dBUd4wLO-zXK",
      "execution_count": null,
      "outputs": []
    },
    {
      "cell_type": "code",
      "metadata": {
        "id": "gIFjlJFl-MzC"
      },
      "source": [
        "plot_training_history(history1, model)"
      ],
      "id": "gIFjlJFl-MzC",
      "execution_count": null,
      "outputs": []
    },
    {
      "cell_type": "code",
      "metadata": {
        "id": "cJ6Lkuq85G3r"
      },
      "source": [
        "import matplotlib.pyplot as plt\n",
        "import matplotlib.patches as patches\n",
        "\n",
        "def plot_with_box(path, sample_name, target_size):\n",
        "  image_data, bounding_box = resize_image_with_bounds(path, sample_name, target_size)\n",
        "  fig,ax = plt.subplots(1)\n",
        "  ax.imshow(image_data)\n",
        "  # Creating a Rectangle patch for the changed one\n",
        "  boxA = patches.Rectangle((bounding_box.xmin, bounding_box.ymin),\n",
        "  bounding_box.xmax - bounding_box.xmin,\n",
        "  bounding_box.ymax - bounding_box.ymin,\n",
        "  linewidth=3, edgecolor='y', facecolor='none')\n",
        "  # Add the patch to the Axes\n",
        "  ax.add_patch(boxA)\n",
        "  plt.show()"
      ],
      "id": "cJ6Lkuq85G3r",
      "execution_count": null,
      "outputs": []
    },
    {
      "cell_type": "code",
      "metadata": {
        "id": "j8w20tf75WQC",
        "colab": {
          "base_uri": "https://localhost:8080/",
          "height": 269
        },
        "outputId": "d950ae3a-b7e3-4d99-a5f8-56050142156a"
      },
      "source": [
        "plot_with_box(CLM_SUBDIR, \"bicho_mineiro0\", target_size=TARGET_SIZE1)"
      ],
      "id": "j8w20tf75WQC",
      "execution_count": null,
      "outputs": [
        {
          "output_type": "display_data",
          "data": {
            "image/png": "[encoded data removed]",
            "text/plain": [
              "<Figure size 432x288 with 1 Axes>"
            ]
          },
          "metadata": {
            "needs_background": "light"
          }
        }
      ]
    },
    {
      "cell_type": "code",
      "metadata": {
        "id": "KuAfclPxhA5K"
      },
      "source": [
        "import pandas as pd \n",
        "import os\n",
        "import numpy as np \n",
        "import cv2\n",
        "from keras.preprocessing import image \n",
        "from sklearn.model_selection import train_test_split\n",
        "import matplotlib.pyplot as plt\n",
        "from tensorflow.keras.utils import to_categorical\n",
        "from skimage.segmentation import mark_boundaries\n",
        "\n",
        "def get_image_value(path, sample_name, dim): \n",
        "    '''This function will read an image and convert to a specified version and resize depending on which algorithm is being used. '''\n",
        "    path_to_image = path + sample_name + \".jpg\"\n",
        "    img = image.load_img(path_to_image, target_size = dim)\n",
        "    img = image.img_to_array(img)\n",
        "    return img/255\n",
        "\n",
        "def get_img_array(img_paths, dim): \n",
        "    '''This fucntion takes a list of image paths and returns the np array corresponding to each image.  It also takes the dim and whether edge is specified in order to pass it to another function to apply these parameters.  This function uses get_image_value to perform these operations'''\n",
        "    final_array = []\n",
        "    from tqdm import tqdm\n",
        "    for path in tqdm(img_paths):\n",
        "        img = get_image_value(path, dim)\n",
        "        final_array.append(img)\n",
        "    final_array = np.array(final_array)  \n",
        "    return final_array"
      ],
      "id": "KuAfclPxhA5K",
      "execution_count": null,
      "outputs": []
    },
    {
      "cell_type": "code",
      "metadata": {
        "id": "uv6GB7g9hfcK",
        "colab": {
          "base_uri": "https://localhost:8080/"
        },
        "outputId": "d0a31a0b-94ce-4ff0-856e-bbd2e694d9d3"
      },
      "source": [
        "get_image_value(CLM_SUBDIR, \"bicho_mineiro0\", TARGET_SIZE1)"
      ],
      "id": "uv6GB7g9hfcK",
      "execution_count": null,
      "outputs": [
        {
          "output_type": "execute_result",
          "data": {
            "text/plain": [
              "array([[[0.74509805, 0.73333335, 0.7058824 ],\n",
              "        [0.7529412 , 0.7411765 , 0.7137255 ],\n",
              "        [0.7529412 , 0.7411765 , 0.7137255 ],\n",
              "        ...,\n",
              "        [0.8627451 , 0.85882354, 0.8509804 ],\n",
              "        [0.8627451 , 0.85882354, 0.8509804 ],\n",
              "        [0.85882354, 0.85490197, 0.84705883]],\n",
              "\n",
              "       [[0.74509805, 0.73333335, 0.7137255 ],\n",
              "        [0.7411765 , 0.7294118 , 0.70980394],\n",
              "        [0.7490196 , 0.7372549 , 0.7176471 ],\n",
              "        ...,\n",
              "        [0.8666667 , 0.8627451 , 0.85490197],\n",
              "        [0.85490197, 0.8509804 , 0.84313726],\n",
              "        [0.85490197, 0.8509804 , 0.84313726]],\n",
              "\n",
              "       [[0.73333335, 0.72156864, 0.7019608 ],\n",
              "        [0.7490196 , 0.7372549 , 0.7176471 ],\n",
              "        [0.7529412 , 0.7411765 , 0.7137255 ],\n",
              "        ...,\n",
              "        [0.85490197, 0.8509804 , 0.84313726],\n",
              "        [0.85490197, 0.8509804 , 0.84313726],\n",
              "        [0.8509804 , 0.84705883, 0.8392157 ]],\n",
              "\n",
              "       ...,\n",
              "\n",
              "       [[0.8627451 , 0.8627451 , 0.8627451 ],\n",
              "        [0.85490197, 0.85490197, 0.85490197],\n",
              "        [0.85882354, 0.85882354, 0.85882354],\n",
              "        ...,\n",
              "        [0.69411767, 0.6901961 , 0.68235296],\n",
              "        [0.6901961 , 0.6745098 , 0.67058825],\n",
              "        [0.69803923, 0.6745098 , 0.6745098 ]],\n",
              "\n",
              "       [[0.85882354, 0.85882354, 0.85882354],\n",
              "        [0.8509804 , 0.8509804 , 0.8509804 ],\n",
              "        [0.85882354, 0.85882354, 0.85882354],\n",
              "        ...,\n",
              "        [0.69411767, 0.6784314 , 0.6745098 ],\n",
              "        [0.6901961 , 0.6745098 , 0.67058825],\n",
              "        [0.6901961 , 0.6862745 , 0.6784314 ]],\n",
              "\n",
              "       [[0.85882354, 0.85882354, 0.85882354],\n",
              "        [0.8627451 , 0.8627451 , 0.8627451 ],\n",
              "        [0.8666667 , 0.8666667 , 0.8666667 ],\n",
              "        ...,\n",
              "        [0.7058824 , 0.6901961 , 0.6784314 ],\n",
              "        [0.69803923, 0.68235296, 0.6784314 ],\n",
              "        [0.7019608 , 0.6862745 , 0.68235296]]], dtype=float32)"
            ]
          },
          "metadata": {},
          "execution_count": 29
        }
      ]
    },
    {
      "cell_type": "code",
      "metadata": {
        "id": "ji0kErfUdSb6",
        "colab": {
          "base_uri": "https://localhost:8080/",
          "height": 229
        },
        "outputId": "3915e492-605f-460b-d544-8811a94a4881"
      },
      "source": [
        "from tensorflow.keras.applications.resnet50 import ResNet50, preprocess_input\n",
        "\n",
        "x_train = []\n",
        "y_class_train = []\n",
        "y_box_train = []\n",
        "x_validation = []\n",
        "y_class_validation = []\n",
        "y_box_validation = []\n",
        "validation_split = 0.2\n",
        "for image, species, bounding_box in processed_data:\n",
        "  if np.random.random() > validation_split:\n",
        "    x_train.append(preprocess_input(image))\n",
        "    y_class_train.append(species)\n",
        "    y_box_train.append(bounding_box)\n",
        "  else:\n",
        "    x_validation.append(preprocess_input(image))\n",
        "    y_class_validation.append(species)\n",
        "    y_box_validation.append(bounding_box)\n",
        "    x_train = np.array(x_train)\n",
        "    y_class_train = np.array(y_class_train)\n",
        "    y_box_train = np.array(y_box_train)\n",
        "    x_validation = np.array(x_validation)\n",
        "    y_class_validation = np.array(y_class_validation)\n",
        "    y_box_validation = np.array(y_box_validation)"
      ],
      "id": "ji0kErfUdSb6",
      "execution_count": null,
      "outputs": [
        {
          "output_type": "error",
          "ename": "NameError",
          "evalue": "ignored",
          "traceback": [
            "\u001b[0;31m---------------------------------------------------------------------------\u001b[0m",
            "\u001b[0;31mNameError\u001b[0m                                 Traceback (most recent call last)",
            "\u001b[0;32m<ipython-input-9-138e85ed3cac>\u001b[0m in \u001b[0;36m<module>\u001b[0;34m()\u001b[0m\n\u001b[1;32m      8\u001b[0m \u001b[0my_box_validation\u001b[0m \u001b[0;34m=\u001b[0m \u001b[0;34m[\u001b[0m\u001b[0;34m]\u001b[0m\u001b[0;34m\u001b[0m\u001b[0;34m\u001b[0m\u001b[0m\n\u001b[1;32m      9\u001b[0m \u001b[0mvalidation_split\u001b[0m \u001b[0;34m=\u001b[0m \u001b[0;36m0.2\u001b[0m\u001b[0;34m\u001b[0m\u001b[0;34m\u001b[0m\u001b[0m\n\u001b[0;32m---> 10\u001b[0;31m \u001b[0;32mfor\u001b[0m \u001b[0mimage\u001b[0m\u001b[0;34m,\u001b[0m \u001b[0mspecies\u001b[0m\u001b[0;34m,\u001b[0m \u001b[0mbounding_box\u001b[0m \u001b[0;32min\u001b[0m \u001b[0mprocessed_data\u001b[0m\u001b[0;34m:\u001b[0m\u001b[0;34m\u001b[0m\u001b[0;34m\u001b[0m\u001b[0m\n\u001b[0m\u001b[1;32m     11\u001b[0m   \u001b[0;32mif\u001b[0m \u001b[0mnp\u001b[0m\u001b[0;34m.\u001b[0m\u001b[0mrandom\u001b[0m\u001b[0;34m.\u001b[0m\u001b[0mrandom\u001b[0m\u001b[0;34m(\u001b[0m\u001b[0;34m)\u001b[0m \u001b[0;34m>\u001b[0m \u001b[0mvalidation_split\u001b[0m\u001b[0;34m:\u001b[0m\u001b[0;34m\u001b[0m\u001b[0;34m\u001b[0m\u001b[0m\n\u001b[1;32m     12\u001b[0m     \u001b[0mx_train\u001b[0m\u001b[0;34m.\u001b[0m\u001b[0mappend\u001b[0m\u001b[0;34m(\u001b[0m\u001b[0mpreprocess_input\u001b[0m\u001b[0;34m(\u001b[0m\u001b[0mimage\u001b[0m\u001b[0;34m)\u001b[0m\u001b[0;34m)\u001b[0m\u001b[0;34m\u001b[0m\u001b[0;34m\u001b[0m\u001b[0m\n",
            "\u001b[0;31mNameError\u001b[0m: name 'processed_data' is not defined"
          ]
        }
      ]
    },
    {
      "cell_type": "code",
      "metadata": {
        "id": "FkeYqBsayPqj"
      },
      "source": [
        "Detection = namedtuple(\"Detection\", [\"image_path\", \"gt\", \"pred\"])\n",
        "\n"
      ],
      "id": "FkeYqBsayPqj",
      "execution_count": null,
      "outputs": []
    },
    {
      "cell_type": "code",
      "metadata": {
        "id": "e608f42f",
        "outputId": "f976b075-9726-4c6c-ccce-b385e5dd1586"
      },
      "source": [
        "from PIL import Image\n",
        "\n",
        "def check_img_list_size(img_list, subdir):\n",
        "    freq = {} \n",
        "    for img in img_list:\n",
        "        im = Image.open(os.path.join(subdir, img))\n",
        "        width, height = im.size\n",
        "        dim = str(width) + \"x\" + str(height)\n",
        "        if (dim in freq): \n",
        "            freq[dim] += 1\n",
        "        else: \n",
        "            freq[dim] = 1\n",
        "    return freq\n",
        "        \n",
        "check_img_list_size(clr_imgs, CLR_SUBDIR)"
      ],
      "id": "e608f42f",
      "execution_count": null,
      "outputs": [
        {
          "data": {
            "text/plain": [
              "{'4000x2250': 275, '2549x3506': 7, '2250x4000': 3}"
            ]
          },
          "execution_count": 4,
          "metadata": {},
          "output_type": "execute_result"
        }
      ]
    },
    {
      "cell_type": "code",
      "metadata": {
        "id": "98bf08fd",
        "outputId": "ba40f60d-8f5f-4839-c7b7-18fee4979c2c"
      },
      "source": [
        "check_img_list_size(clm_imgs, CLM_SUBDIR)"
      ],
      "id": "98bf08fd",
      "execution_count": null,
      "outputs": [
        {
          "data": {
            "text/plain": [
              "{'4000x2250': 257}"
            ]
          },
          "execution_count": 5,
          "metadata": {},
          "output_type": "execute_result"
        }
      ]
    },
    {
      "cell_type": "code",
      "metadata": {
        "id": "fcd77040"
      },
      "source": [
        "# Refered to https://machinelearningmastery.com/how-to-train-an-object-detection-model-with-keras/\n",
        "\n",
        "# function to extract bounding boxes from an annotation file\n",
        "def extract_boxes(filename):\n",
        "    # load and parse the file\n",
        "    tree = ElementTree.parse(filename)\n",
        "    # get the root of the document\n",
        "    root = tree.getroot()\n",
        "    # extract each bounding box\n",
        "    boxes = list()\n",
        "    for box in root.findall('.//bndbox'):\n",
        "        xmin = int(box.find('xmin').text)\n",
        "        ymin = int(box.find('ymin').text)\n",
        "        xmax = int(box.find('xmax').text)\n",
        "        ymax = int(box.find('ymax').text)\n",
        "        coors = [xmin, ymin, xmax, ymax]\n",
        "        boxes.append(coors)\n",
        "    # extract image dimensions\n",
        "    width = int(root.find('.//size/width').text)\n",
        "    height = int(root.find('.//size/height').text)\n",
        "    return boxes, width, height\n"
      ],
      "id": "fcd77040",
      "execution_count": null,
      "outputs": []
    },
    {
      "cell_type": "code",
      "metadata": {
        "id": "46209cf0",
        "outputId": "d8762843-0823-468e-e3f8-458581e61091"
      },
      "source": [
        "# extract details form annotation file\n",
        "boxes, w, h = extract_boxes('cavalcante/miner_img_xml/bicho_mineiro0.xml')\n",
        "# summarize extracted details\n",
        "print(boxes, w, h)"
      ],
      "id": "46209cf0",
      "execution_count": null,
      "outputs": [
        {
          "name": "stdout",
          "output_type": "stream",
          "text": [
            "[[2339, 163, 3299, 987], [2261, 1192, 2791, 1625], [739, 1034, 1252, 1373]] 4000 2250\n"
          ]
        }
      ]
    },
    {
      "cell_type": "code",
      "metadata": {
        "id": "a3ed5d5c"
      },
      "source": [
        ""
      ],
      "id": "a3ed5d5c",
      "execution_count": null,
      "outputs": []
    }
  ]
}